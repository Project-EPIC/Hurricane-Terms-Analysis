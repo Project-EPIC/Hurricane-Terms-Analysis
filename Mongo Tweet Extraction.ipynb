{
 "cells": [
  {
   "cell_type": "code",
   "execution_count": 10,
   "metadata": {},
   "outputs": [],
   "source": [
    "import json, pymongo, datetime"
   ]
  },
  {
   "cell_type": "markdown",
   "metadata": {},
   "source": [
    "Connect to the DB"
   ]
  },
  {
   "cell_type": "code",
   "execution_count": 5,
   "metadata": {},
   "outputs": [],
   "source": [
    "client = pymongo.MongoClient('localhost',27017)\n",
    "db = client.sandy"
   ]
  },
  {
   "cell_type": "code",
   "execution_count": 11,
   "metadata": {},
   "outputs": [],
   "source": [
    "START_DATE = datetime.datetime(2012,10,22,0,0,0)\n",
    "END_DATE = datetime.datetime(2012,10,31,0,0,0)"
   ]
  },
  {
   "cell_type": "code",
   "execution_count": 26,
   "metadata": {},
   "outputs": [],
   "source": [
    "def dumb_retweet_finder(text):\n",
    "    if text.startswith(\"RT\"):\n",
    "        return 'share'\n",
    "    else:\n",
    "        return 'post'"
   ]
  },
  {
   "cell_type": "code",
   "execution_count": 45,
   "metadata": {},
   "outputs": [],
   "source": [
    "def make_simple_format(tweet):\n",
    "    return {\n",
    "        'id':tweet['id_str'],\n",
    "       'text':tweet['text'].replace(\"\\n\",\" \").replace(\"\\r\",\" \").replace(\"\\t\",\" \"),\n",
    "       'created_at':datetime.datetime.strftime(tweet['created_at'],\"%Y-%m-%dT%H:%M:%S.%fZ\"),\n",
    "       'user':tweet['user']['screen_name'],\n",
    "       'verb':dumb_retweet_finder(tweet['text'])\n",
    "    }"
   ]
  },
  {
   "cell_type": "code",
   "execution_count": 46,
   "metadata": {},
   "outputs": [],
   "source": [
    "tweets = db.tweets.find({'created_at':{'$gt' : START_DATE}, 'created_at':{'$lt':END_DATE}})"
   ]
  },
  {
   "cell_type": "code",
   "execution_count": 47,
   "metadata": {},
   "outputs": [],
   "source": [
    "with open('/data/chime/sandy_tweets_gnip_simple.jsonl','w') as tweets_out:\n",
    "    for t in tweets:\n",
    "        tweets_out.write(json.dumps(make_simple_format(t))+\"\\n\")"
   ]
  }
 ],
 "metadata": {
  "kernelspec": {
   "display_name": "Python 3",
   "language": "python",
   "name": "python3"
  },
  "language_info": {
   "codemirror_mode": {
    "name": "ipython",
    "version": 3
   },
   "file_extension": ".py",
   "mimetype": "text/x-python",
   "name": "python",
   "nbconvert_exporter": "python",
   "pygments_lexer": "ipython3",
   "version": "3.6.3"
  }
 },
 "nbformat": 4,
 "nbformat_minor": 2
}
