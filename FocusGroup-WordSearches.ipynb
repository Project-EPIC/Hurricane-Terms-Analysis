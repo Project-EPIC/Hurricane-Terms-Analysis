{
 "cells": [
  {
   "cell_type": "markdown",
   "metadata": {},
   "source": [
    "## Load Contextual Plus Streams and do text searches"
   ]
  },
  {
   "cell_type": "code",
   "execution_count": 92,
   "metadata": {},
   "outputs": [],
   "source": [
    "import os, sys, gzip, json, pprint, pymongo, pandas as pd\n",
    "from datetime import datetime\n",
    "%matplotlib inline"
   ]
  },
  {
   "cell_type": "code",
   "execution_count": 93,
   "metadata": {},
   "outputs": [],
   "source": [
    "EVENTS = {\n",
    "#     'harvey'      : '/data/chime/Hurricanes_HIM/contextual-plus/OfficialSources_HIM/GNIP/', #HarveyIrma CP\n",
    "#     'matthew'     : '/data/chime/matthew/gnip/',              # This is all keyword collection from Matthew\n",
    "#     'matthew-geo' : '/data/chime/matthew/gnip-geo/all/' # This is all tweets from within the windswath of Matthew\n",
    "    'harvey_kw' : '/data/chime/Hurricanes_HIM/keyword/harvey/GNIP/',\n",
    "    'sandy'  : '/data/chime/sandy_tweets_gnip_simple.jsonl'\n",
    "}\n",
    "\n",
    "START_DATES = {\n",
    "    'sandy': datetime(2012,10,22,0,0,0),\n",
    "    'harvey_kw': datetime(2017,8,17,0,0,0)\n",
    "}\n",
    "\n",
    "END_DATES = {\n",
    "    'sandy': datetime(2012,10,31,0,0,0),\n",
    "    'harvey_kw': datetime(2017,8,27,0,0,0)\n",
    "}"
   ]
  },
  {
   "cell_type": "code",
   "execution_count": 94,
   "metadata": {},
   "outputs": [],
   "source": [
    "def simplify_tweet(t):\n",
    "    '''Simplify tweet to only specified attributes (e.g. id, text, date, user attributes, etc.)'''\n",
    "    new_tweet = {'id':t['id'].split(':')[2],\n",
    "                 'text':t['body'].replace(\"\\n\",\" \").replace(\"\\r\",\" \").replace(\"\\t\",\" \"),\n",
    "                 'created_at':datetime.strptime(t['postedTime'], \"%Y-%m-%dT%H:%M:%S.%fZ\"),\n",
    "                 'user':t['actor']['preferredUsername'].replace(\"\\t\",\" \"),\n",
    "                 'verb':t['verb']\n",
    "                }        \n",
    "    return(new_tweet)"
   ]
  },
  {
   "cell_type": "code",
   "execution_count": 95,
   "metadata": {},
   "outputs": [],
   "source": [
    "def gzip_to_full_tweet(file, event):\n",
    "    tweets          = []\n",
    "    tweet_count     = 0\n",
    "    error_count     = 0\n",
    "    info = None\n",
    "    rt_count = 0\n",
    "    \n",
    "    with gzip.open(file, 'rb') as f:\n",
    "        file_content = f.read()\n",
    "        \n",
    "        for idx, line in enumerate(file_content.decode().split(\"\\n\")):\n",
    "            tweet_count += 1\n",
    "            try:\n",
    "                t = json.loads(line.strip())\n",
    "            except json.JSONDecodeError:\n",
    "                if(line==\"\"):\n",
    "                    pass\n",
    "                \n",
    "            if 'info' in t:\n",
    "                info = t\n",
    "            else:\n",
    "                if t['verb'] != 'share':\n",
    "                    t = simplify_tweet(t)\n",
    "                    if t['created_at'] > START_DATES[event] and t['created_at'] < END_DATES[event]:\n",
    "                        tweets.append(t)\n",
    "                else:\n",
    "                    rt_count+=1\n",
    "\n",
    "            if idx%1000==0:\n",
    "                sys.stderr.write(\"\\r{0} tweets parsed      \".format(tweet_count))\n",
    "#     sys.stderr.write(\"\\r{0} tweets parsed     \".format(tweet_count))\n",
    "    return tweets, info, rt_count"
   ]
  },
  {
   "cell_type": "code",
   "execution_count": 113,
   "metadata": {},
   "outputs": [],
   "source": [
    "def load_jsonl(file):\n",
    "    t_count = 0\n",
    "    rt_count = 0\n",
    "    tweet_array = []\n",
    "\n",
    "    with open(file,'r') as inFile:\n",
    "        for line in inFile:\n",
    "            t = json.loads(line)\n",
    "            if t['verb'] != 'share':\n",
    "                t['created_at'] = datetime.strptime(t['created_at'], \"%Y-%m-%dT%H:%M:%S.%fZ\")\n",
    "                tweet_array.append(t)\n",
    "                t_count += 1\n",
    "                if t_count%10000==0:\n",
    "                    sys.stderr.write(\"\\r\"+\" Loaded {0} tweets, skipped {1} retweets\".format(t_count, rt_count))\n",
    "            else: \n",
    "                rt_count += 1\n",
    "    return tweet_array"
   ]
  },
  {
   "cell_type": "code",
   "execution_count": 114,
   "metadata": {},
   "outputs": [],
   "source": [
    "def get_tweets(event, limit=None):\n",
    "    gnip_files = os.listdir( EVENTS[event] )\n",
    "    print(\"Found {0} GNIP files, limit: {1}\".format(len(gnip_files), limit))\n",
    "    \n",
    "    t_count = 0\n",
    "    rt_count_total = 0\n",
    "    tweet_array = []\n",
    "    for idx, file in enumerate(gnip_files[:limit]):\n",
    "        parts = file.split(\"_\")\n",
    "        file_date = datetime(int(parts[1]), int(parts[2]), int(parts[3]), int(parts[4]), int(parts[5]),0)\n",
    "        if file_date < START_DATES[event] or file_date > END_DATES[event]:\n",
    "            continue\n",
    "        \n",
    "        tweets, info, rt_count = gzip_to_full_tweet(EVENTS[event] +file, event)\n",
    "        t_count += info['info']['activity_count']\n",
    "        tweet_array += tweets\n",
    "        rt_count_total += rt_count\n",
    "        if idx%2==0:\n",
    "            sys.stderr.write(\"\\r\"+\" \"*80 + \"{0} files; {1} tweets\".format(idx+1, t_count))\n",
    "    print(\"{0} files processed with {1} tweets, skipped {2} retweets\".format(idx+1, t_count, rt_count_total))\n",
    "    return tweet_array"
   ]
  },
  {
   "cell_type": "markdown",
   "metadata": {},
   "source": [
    "# Step 1: Load Tweets"
   ]
  },
  {
   "cell_type": "markdown",
   "metadata": {},
   "source": [
    "### Sandy Keyword Tweets"
   ]
  },
  {
   "cell_type": "code",
   "execution_count": 115,
   "metadata": {
    "scrolled": false
   },
   "outputs": [
    {
     "name": "stderr",
     "output_type": "stream",
     "text": [
      " Loaded 4840000 tweets, skipped 4175875 retweets"
     ]
    }
   ],
   "source": [
    "sandy_tweets = load_jsonl(EVENTS['sandy'])"
   ]
  },
  {
   "cell_type": "code",
   "execution_count": null,
   "metadata": {
    "scrolled": false
   },
   "outputs": [
    {
     "name": "stdout",
     "output_type": "stream",
     "text": [
      "Tweets: 4847095\n"
     ]
    },
    {
     "data": {
      "text/html": [
       "<div>\n",
       "<style scoped>\n",
       "    .dataframe tbody tr th:only-of-type {\n",
       "        vertical-align: middle;\n",
       "    }\n",
       "\n",
       "    .dataframe tbody tr th {\n",
       "        vertical-align: top;\n",
       "    }\n",
       "\n",
       "    .dataframe thead th {\n",
       "        text-align: right;\n",
       "    }\n",
       "</style>\n",
       "<table border=\"1\" class=\"dataframe\">\n",
       "  <thead>\n",
       "    <tr style=\"text-align: right;\">\n",
       "      <th></th>\n",
       "      <th>created_at</th>\n",
       "      <th>id</th>\n",
       "      <th>text</th>\n",
       "      <th>user</th>\n",
       "      <th>verb</th>\n",
       "      <th>date</th>\n",
       "    </tr>\n",
       "  </thead>\n",
       "  <tbody>\n",
       "    <tr>\n",
       "      <th>0</th>\n",
       "      <td>2012-10-24 23:58:06</td>\n",
       "      <td>261255274801815552</td>\n",
       "      <td>New 8PM update from the National Hurricane Cen...</td>\n",
       "      <td>MikeMasco</td>\n",
       "      <td>post</td>\n",
       "      <td>2012-10-24</td>\n",
       "    </tr>\n",
       "    <tr>\n",
       "      <th>1</th>\n",
       "      <td>2012-10-24 23:58:07</td>\n",
       "      <td>261255282758402048</td>\n",
       "      <td>Prayers over Jamaica.As Hurricane Sandy approa...</td>\n",
       "      <td>KaiyaNichole</td>\n",
       "      <td>post</td>\n",
       "      <td>2012-10-24</td>\n",
       "    </tr>\n",
       "    <tr>\n",
       "      <th>2</th>\n",
       "      <td>2012-10-24 23:58:07</td>\n",
       "      <td>261255281726603266</td>\n",
       "      <td>That T.S turned into a Hurricane in A Few hour...</td>\n",
       "      <td>DJ_BMONEY</td>\n",
       "      <td>post</td>\n",
       "      <td>2012-10-24</td>\n",
       "    </tr>\n",
       "    <tr>\n",
       "      <th>3</th>\n",
       "      <td>2012-10-24 23:58:09</td>\n",
       "      <td>261255287581843457</td>\n",
       "      <td>All the news of Hurricane Sandy has left Sandy...</td>\n",
       "      <td>littleritzz</td>\n",
       "      <td>post</td>\n",
       "      <td>2012-10-24</td>\n",
       "    </tr>\n",
       "    <tr>\n",
       "      <th>4</th>\n",
       "      <td>2012-10-24 23:58:14</td>\n",
       "      <td>261255312147881985</td>\n",
       "      <td>@mooremayhem  IS A YAAD TING when we get RASS ...</td>\n",
       "      <td>WiggiLeaks</td>\n",
       "      <td>post</td>\n",
       "      <td>2012-10-24</td>\n",
       "    </tr>\n",
       "  </tbody>\n",
       "</table>\n",
       "</div>"
      ],
      "text/plain": [
       "           created_at                  id  \\\n",
       "0 2012-10-24 23:58:06  261255274801815552   \n",
       "1 2012-10-24 23:58:07  261255282758402048   \n",
       "2 2012-10-24 23:58:07  261255281726603266   \n",
       "3 2012-10-24 23:58:09  261255287581843457   \n",
       "4 2012-10-24 23:58:14  261255312147881985   \n",
       "\n",
       "                                                text          user  verb  \\\n",
       "0  New 8PM update from the National Hurricane Cen...     MikeMasco  post   \n",
       "1  Prayers over Jamaica.As Hurricane Sandy approa...  KaiyaNichole  post   \n",
       "2  That T.S turned into a Hurricane in A Few hour...     DJ_BMONEY  post   \n",
       "3  All the news of Hurricane Sandy has left Sandy...   littleritzz  post   \n",
       "4  @mooremayhem  IS A YAAD TING when we get RASS ...    WiggiLeaks  post   \n",
       "\n",
       "         date  \n",
       "0  2012-10-24  \n",
       "1  2012-10-24  \n",
       "2  2012-10-24  \n",
       "3  2012-10-24  \n",
       "4  2012-10-24  "
      ]
     },
     "execution_count": 116,
     "metadata": {},
     "output_type": "execute_result"
    }
   ],
   "source": [
    "SANDY = pd.DataFrame(sandy_tweets)\n",
    "SANDY['date'] = SANDY.created_at.apply(lambda x: x.date())\n",
    "print(\"Tweets: {0}\".format(len(SANDY)))\n",
    "SANDY.head()"
   ]
  },
  {
   "cell_type": "markdown",
   "metadata": {},
   "source": [
    "### Harvey Keyword Tweets"
   ]
  },
  {
   "cell_type": "code",
   "execution_count": null,
   "metadata": {},
   "outputs": [
    {
     "name": "stdout",
     "output_type": "stream",
     "text": [
      "Found 3456 GNIP files, limit: None\n"
     ]
    },
    {
     "name": "stderr",
     "output_type": "stream",
     "text": [
      "4001 tweets parsed                                                              557 files; 1140231 tweets"
     ]
    }
   ],
   "source": [
    "harvey_tweets = get_tweets('harvey_kw')"
   ]
  },
  {
   "cell_type": "code",
   "execution_count": null,
   "metadata": {},
   "outputs": [],
   "source": [
    "HARVEY = pd.DataFrame(harvey_tweets)\n",
    "HARVEY['date'] = HARVEY.created_at.apply(lambda x: x.date())\n",
    "print(\"Tweets: {0}\".format(len(HARVEY)))\n",
    "HARVEY.head()"
   ]
  },
  {
   "cell_type": "markdown",
   "metadata": {},
   "source": [
    "# Some DataFrame Analysis"
   ]
  },
  {
   "cell_type": "code",
   "execution_count": null,
   "metadata": {},
   "outputs": [],
   "source": [
    "SANDY_WORDS  = ['flooded','sandy','evacuate','electricity','shelter','destroy','generators','light','power','emergency ','candles','flashlights','decisions','disaster','forecast','wind','repair','scary','heat','school ','worried ','response','hospital','rising','substations','government','meetings','population','resources','mayor','receding','relatives','supplies','leaders','looting','transportation','waves','fires','rain','abandoned','devastated','drowned','ocean','raised','rescue','safe','stuck','suffering','survivied','afraid','bridge','designated','impact','neighborhood','rebuild','scared','telephone','twitter','dangerous','federal','firefighters','floated','grid','risk','scientist','terrible','tornado','trouble','administration','announce','authorities','bags','bathtubs','batteries','dumping','fuel','pouring','residents','roof','ambulences','canal','coastal','death','died','donate','garbage','governer','infrastructure','facebook','media','paper','television','computer','cell','internet']\n",
    "HARVEY_WORDS = ['water','helps','community','storm','call','prepared','hurricane','rains','stay','phone','talking','evacuate','homes','news','leave','rescue','tornado','boat','family','church','neighbor','media','fema','bayou','warnings','facebook','weather','emergency','lights','radio','plans','money','power','channel','wind','damage','forecast','decision','shelter','devastation','alerts','gulf','police','rita','cell','lake','seniors','rising','stuck','drain','electricity','drainage','governments','safe','decide','higher','officials','afraid','danger','katrina','mayor','rainfall','surge','trapped','deep','disabled','leaders','strong','bayous','blessed','hospital','praying','frustrating','mexican','risk','river','univision','generator','safety','tide','agency','disaster','faith','mandatory','medicine','reservoirs','hotel','levies','pets','stranded','underwater']"
   ]
  },
  {
   "cell_type": "code",
   "execution_count": null,
   "metadata": {},
   "outputs": [],
   "source": [
    "SANDY['keywords']  = SANDY.text.apply(lambda text: pd.Series([x in text.lower() for x in SANDY_WORDS]).any())\n",
    "HARVEY['keywords'] = HARVEY.text.apply(lambda text: pd.Series([x in text.lower() for x in HARVEY_WORDS]).any())"
   ]
  },
  {
   "cell_type": "code",
   "execution_count": null,
   "metadata": {},
   "outputs": [],
   "source": [
    "SANDY.head()"
   ]
  },
  {
   "cell_type": "code",
   "execution_count": null,
   "metadata": {},
   "outputs": [],
   "source": [
    "HARVEY.head()"
   ]
  },
  {
   "cell_type": "markdown",
   "metadata": {},
   "source": [
    "### Secondary Search Words"
   ]
  },
  {
   "cell_type": "code",
   "execution_count": null,
   "metadata": {},
   "outputs": [],
   "source": [
    "SOCIAL_NETWORKS = ['help','mother','father','brother','sister','grandmother','grandfather','neighbor ','friend','community','church','school ','pastor','principal','kids','cousin','neice ','nephew','son ','daughter','aunt','uncle','teacher','neighborhood','children','manager','stuck','aid','assist','grandma','grandpa','family']\n",
    "FORECAST_INFO   = ['flood','rain','surge','wind','water','cone','dirty side','clean side','uncertainty','intensify','landfall','category','forecast','pressure','hurricane','trajectory','tropical','disturbance','depression','tv','radio','internet','paper']\n",
    "PROTECTIVE_DECISIONS = ['stay','leave','shelter','ride','evacuate','roof','higher','attic','get out','rob','theives','pet','dog','cat','motel','hotel','traffic','highway','road','vacancy','go','shutters','elevator','power','electricity','order','mayor','car','subway','bus','basement','last time','shelter']\n",
    "MATERIAL_NEEDS = ['stay','leave','shelter','ride','evacuate','roof','higher','attic','get out','rob','theives','pet','dog','cat','motel','hotel','traffic','highway','road','vacancy','go','shutters','elevator','power','electricity','order','mayor','car','subway','bus','basement','last time','shelter']\n",
    "BEAUROCRATIC_ASSISTANCE = ['papers','fema','red cross','city','Super neighborhood','county','emergency manager','police','fire']"
   ]
  },
  {
   "cell_type": "code",
   "execution_count": null,
   "metadata": {},
   "outputs": [],
   "source": [
    "def second_level_search(df):\n",
    "    df['SOCIAL_NETWORKS'] = df.text.apply(lambda text: pd.Series([x in text.lower() for x in SOCIAL_NETWORKS]).any())\n",
    "    df['FORECAST_INFO'] = df.text.apply(lambda text: pd.Series([x in text.lower() for x in FORECAST_INFO]).any())\n",
    "    df['PROTECTIVE_DECISIONS'] = df.text.apply(lambda text: pd.Series([x in text.lower() for x in PROTECTIVE_DECISIONS]).any())\n",
    "    df['MATERIAL_NEEDS'] = df.text.apply(lambda text: pd.Series([x in text.lower() for x in MATERIAL_NEEDS]).any())\n",
    "    df['BEAUROCRATIC_ASSISTANCE'] = df.text.apply(lambda text: pd.Series([x in text.lower() for x in BEAUROCRATIC_ASSISTANCE]).any())    "
   ]
  },
  {
   "cell_type": "code",
   "execution_count": null,
   "metadata": {},
   "outputs": [],
   "source": [
    "second_level_search(SANDY)\n",
    "second_level_search(HARVEY)"
   ]
  },
  {
   "cell_type": "code",
   "execution_count": null,
   "metadata": {},
   "outputs": [],
   "source": [
    "SANDY.head()"
   ]
  },
  {
   "cell_type": "code",
   "execution_count": null,
   "metadata": {},
   "outputs": [],
   "source": [
    "HARVEY.head()"
   ]
  },
  {
   "cell_type": "markdown",
   "metadata": {},
   "source": [
    "<hr>\n",
    "<br>\n",
    "# Group the dataframes by user and get counts for tweets within the second level filtering"
   ]
  },
  {
   "cell_type": "code",
   "execution_count": 270,
   "metadata": {},
   "outputs": [],
   "source": [
    "HARVEY_gb_user = df.groupby('user')"
   ]
  },
  {
   "cell_type": "markdown",
   "metadata": {},
   "source": [
    "Going into the secondary filtering, this is what it looks like: \n",
    "len(HARVEY_92_USERS_SN),len(HARVEY_92_USERS_DM),len(HARVEY_92_USERS_AC)\n",
    "(60699, 104374, 56593)"
   ]
  },
  {
   "cell_type": "code",
   "execution_count": 296,
   "metadata": {},
   "outputs": [],
   "source": [
    "THRESHOLD = 10;\n",
    "HARVEY_92_USERS_SN = []\n",
    "HARVEY_92_USERS_DM = []\n",
    "HARVEY_92_USERS_AC = []\n",
    "for user, tweets in HARVEY_gb_user:\n",
    "    if tweets.harvey92.any():\n",
    "        if tweets.SOCIAL_NETWORKS.sum() > THRESHOLD:\n",
    "            HARVEY_92_USERS_SN.append( (user, tweets.SOCIAL_NETWORKS.sum() ) )\n",
    "        if tweets.DECISION_MAKING.sum() > THRESHOLD:\n",
    "            HARVEY_92_USERS_DM.append( (user, tweets.DECISION_MAKING.sum() ) )\n",
    "        if tweets.ADAPTIVE_CAPACITY.sum() > THRESHOLD:\n",
    "            HARVEY_92_USERS_AC.append( (user, tweets.ADAPTIVE_CAPACITY.sum() ) )"
   ]
  },
  {
   "cell_type": "code",
   "execution_count": 299,
   "metadata": {},
   "outputs": [
    {
     "data": {
      "text/plain": [
       "(1105, 3199, 993)"
      ]
     },
     "execution_count": 299,
     "metadata": {},
     "output_type": "execute_result"
    }
   ],
   "source": [
    "len(HARVEY_92_USERS_SN),len(HARVEY_92_USERS_DM),len(HARVEY_92_USERS_AC)"
   ]
  },
  {
   "cell_type": "code",
   "execution_count": 308,
   "metadata": {},
   "outputs": [
    {
     "data": {
      "text/plain": [
       "[('2015gardener', 12),\n",
       " ('3ghero', 16),\n",
       " ('3monarchs', 12),\n",
       " ('4361a4be893d4c0', 35),\n",
       " ('52052c3827724b6', 12)]"
      ]
     },
     "execution_count": 308,
     "metadata": {},
     "output_type": "execute_result"
    }
   ],
   "source": [
    "HARVEY_92_USERS_AC[5:10]"
   ]
  },
  {
   "cell_type": "code",
   "execution_count": 309,
   "metadata": {},
   "outputs": [
    {
     "data": {
      "text/plain": [
       "array(['@CNN Cant we quit this already?', '@CNN Ha Ha Ha Ha !',\n",
       "       '@marcorubio Oh its true LITTLE MARCO! Yep thats who you are! Repubs are the biggest disappontment of my life! GOD BLESS POTUS!',\n",
       "       '@CNN @FareedZakaria I am so proud that Iran is no longer happy with America that means we are finally standing up to these killers!',\n",
       "       '@CNN Rush to Congress have them get a lawful way for you Welcome DACA enjoy living by the laws America first!',\n",
       "       '@CNN So elitist so ignorant  WHO ARE THEY HURTING seems it was never about helping after all ONLY ATTENTION! God sees hypocrites!',\n",
       "       '@CNN You hate spewers you Fake News you resist promoters! Just arm of hatred!',\n",
       "       '@CNN CNN its all about themselves! Tune out turn off these hateful lefties have nothing but talking points from the dems!',\n",
       "       '@CNN Watch the whole chase I see why a jury decided this life is a messy business why we need to listen',\n",
       "       '@CNN Ridiculous &amp; please where are the Obama college papers????',\n",
       "       '@CNN Really looks like they have welcomed NO ONE wheres trans wheres gays wheres lesbians wheres repubs?!!!',\n",
       "       '@CNN Lack of good adult supervision in schools!',\n",
       "       '@CNN Do transgenders get welcomed ? Hey fake news check that out lets see PC outrage against others besides Christians!',\n",
       "       '@CNN FAKE NEWS! He will in a fair manner implement a good policy that is not socially motivated only safety for human lives motivated!',\n",
       "       '@CNN Well buddy why you care you will lose this job soon',\n",
       "       '@CNN Not my prob this is a chosen road so if that is your travel own it! I dont need to pay for it or be responsible for it! Thats you!',\n",
       "       '@CNN The press pool asks no questions we voters care about! The press pool should interview Bannon &amp; Acostas hot air should be carbon taxed!',\n",
       "       '@CNN True wasnt a flood zone until Harvey why a flood of the century!',\n",
       "       '@CNN Thanks liberal policies jobs not needle jabs!',\n",
       "       '@CNN Goodells statement NFL at disasters SO WHAT so are neighbors military this is about respect &amp; honor take grievance elsewhere!',\n",
       "       '@CNN Obama still looking for 57 states !',\n",
       "       '@CNN Oh Coons you should refrain from critizing our President! Get your allegiance and country straight!',\n",
       "       '@CNN Oh this is just rich !',\n",
       "       '@CNN So    Lets explore what Clintons and American political actors have looked into WHAT guess CNN in this mess also',\n",
       "       '@CNN Oh goodness soap opera 24/7 how terrible for America that Congress is the new American soap opera Wake up we h… https://t.co/qiFlgzorSW',\n",
       "       '@CNN Uh buddy talk to your Congressman WINNING!',\n",
       "       '@CNN @CillizzaCNN Well do something I vould care if they shut it down POTUS will decide what relevant WINNING!',\n",
       "       '@fema God Bless this beautiful country we have of American heros',\n",
       "       '@CNN POTUS not side lining doing them all its the media stuck on NFL like old record players needle stuck',\n",
       "       '@CNN So what join loser John Kerry who threw medals over a bridge! Dialogue is not what these people want only resist &amp; hate.',\n",
       "       '@CNN We know CNN has lied thou also Comey Clapper Holder Obama HRC Susan Rice need I go on?',\n",
       "       '@CNN Schum you dems &amp; Obama created this mess like a good parent POTUS making you kids clean up YOUR MESS! Welcome to law&amp;order DACA',\n",
       "       '@CNN God Bless POTUS!',\n",
       "       '@CNN Shut your lying mouth let your family get the railroad job he got then talk to me!',\n",
       "       '@CNN Not controversial a hero to us AZ residents how many you TV fakes live here? Thank you POTUS!',\n",
       "       '@CNN Americans need to join forces and get rid of this witch hunt!',\n",
       "       '@CNN So horrible the dems athletes left disrespect AMERICANS tired of it!',\n",
       "       '@CNN Dems liked their history until now! Why is that you think? a real story to explore!',\n",
       "       '@CNN God love POTUS!',\n",
       "       '@CNN Most likely 210 only ten of Rauls favs',\n",
       "       '@CNN Hey Tapper CNN is causing concern to me take your Lemon for instance!',\n",
       "       '@CNN So get pn same page as POTUS and voters!',\n",
       "       '@ricardorossello Hang in there all prayers!',\n",
       "       '@CNN @CNNOpinion CNN is the one out of touch! Stop your hate!',\n",
       "       '@CNN She was wonderful POTUS surprised her by asking her to speak and she filled the bill! FLOTUS is a class act!',\n",
       "       '@CNN Bringing faith on all levels back into the Whitehouse wake up DC hell the lights will be shining on the hill again!',\n",
       "       \"@CNN Ruben Ruben you are racist look America Ruben is racist! Like that buddy? Like that? No one does shut the he-- up'\",\n",
       "       '@CNN Just think treated worse than criminals ! Weed out evil prosecute and out away',\n",
       "       '@CNN @ChrisCuomo Oh still didnt get the part what a terrible actor you are UGH',\n",
       "       '@CNN Tort reform this is ridiculous only lawyers win people!',\n",
       "       '@CNN @CillizzaCNN FAKE NEWS will not tell truth about the good man Arpaio!',\n",
       "       '@CNN Mother Nature is cheering put your hands in the earth and grow or shut up crop rotation planet rotation nothing igits would understand',\n",
       "       '@CNN So DACA wake up Obama&amp;Congress made this mess troll them for your wants! POTUS law&amp;order welcome to a better life!',\n",
       "       '@CNN Hey Mueller look into McCain buying Russia dossier for HRC &amp; dems prob find him in HEC emails too uncover this!',\n",
       "       '@CNN Why would seeking the HRC emails (Americans property) be a crime we need to offer a YUGE reward for them ?',\n",
       "       '@CNN FAKE NEWS HATE SPEWING CREEPS WHO JUST WANT LEFTY ATTENTION GROW SOME SPINE DUDE',\n",
       "       '@CNN So recess and work breaks!',\n",
       "       '@CNN Did you or did you not  hear that its going to take some time? Stop your spreading discontent!',\n",
       "       '@CNN It was funny! What makes you think only libs get to have a funny?',\n",
       "       '@CNN Oh this \"vet\" gonna tell us about the military strategy? how low and ridiculous can he make himself!',\n",
       "       '@CNN This is only the beginning we must help our brothers &amp; sisters!',\n",
       "       '@CNN @ananavarro Ana you are irrelevant !',\n",
       "       '@CNN So CNN talk to your Congressman WINNING!',\n",
       "       '@CNN @StCollinson We Americans have POTUS  back the resisters &amp; blood in the streeters do not have Americas back',\n",
       "       '@CNN CNN again wanting side show funny how the real bully wears glasses now STILL WHIMPY in my opinion!',\n",
       "       '@CNN Yep democrats!',\n",
       "       '@CNN Oh CNN you expect me to believe you know Sec Mattis plans remember you thought HRC baked in! You are bad opinion not real news!',\n",
       "       '@CNN Yes we are this was a political witch hunt God Bless Arpaio! Now DOJ ho after the real criminals HRC and staff!',\n",
       "       '@CNN @ananavarro Anna Anna found your voice again? Well laryngitis would serve you well!',\n",
       "       '@CNN WINNING!',\n",
       "       '@CNN Repubs better do it! Let doctors have healthcare back to provide to the people!',\n",
       "       '@CNN @andersoncooper Wow taking up a rescue spot what a crude ugly dude!',\n",
       "       '@CNN @StCollinson What FAKE NEWS you haters just have no other mantra repubs fought for equality for all dems bough… https://t.co/aOVyvc8WZE',\n",
       "       '@CNN Liar leaker lock him up!',\n",
       "       '@CNN Wish it was the day the dems resist disappeared!',\n",
       "       '@CNN Het Ryan out of repub labels he is a dem in all but name!',\n",
       "       '@CNN How about message to Obama ? Why did you give Iran a nuke? Why did you let China build islands? Why did you appease Russia &amp; NOKO?',\n",
       "       '@CNN And who is CNN cheering?',\n",
       "       '@CNN Terrible how repubs have no spine! Tell me media the young lady that died was she not a good person at this ma… https://t.co/Zvym0aFuhX',\n",
       "       '@CNN @FareedZakaria Zakaria blowing air through your ear holes thats all NO RATIONAL THOUGHT JUST AIR',\n",
       "       '@CNN Silicon Valley so are legal Americans find some!',\n",
       "       '@CNN what about libs whining when burka not worn gonna give muslims trans? Hey is that crossing a tact line? Not al… https://t.co/JtmAQpafns',\n",
       "       '@CNN PELOSI PELOSI gonna call her out ask why she was so in favor of hateful racist things? What feel like you stepped in your own poop?',\n",
       "       '@CNN @CNNgo This is the day the USA should ask why athletes &amp; actors are paid more than first responders,police &amp; m… https://t.co/WAvYDSvEM6',\n",
       "       '@GregAbbott_TX @TheLeftIsRacist God Bless!',\n",
       "       '@CNN God Bless POTUS protecting our great brothers in law',\n",
       "       '@CNN @Ravens @Jaguars So disrespectful then stood for UKs tired of this take this shit off the sports field or lose me',\n",
       "       '@CNN @SenatorCollins You are a lying politician Collins',\n",
       "       '@CNN See this is hate this is bullying this is why the derisiveness emits from your air!',\n",
       "       '@CNN Americans back POTUS thankfully we have college golf and womens sports!',\n",
       "       '@CNN Dems dems dems yep these were politics of south and we YANKEES went to war for equality!',\n",
       "       '@fema @WhiteHouse God Bless this good team keep it up!',\n",
       "       '@CNN @CillizzaCNN Oh lord we hope POTUS does not listen to Obummer one tiny bit!',\n",
       "       '@CNN flake is such a lying scum we in AZ will not vote this useless ploitician back into office Go Dr Ward!',\n",
       "       '@CNN @Acosta ASCOSTA pushed out as a reporter cause everyone knows hes FAKE UGLY NEWS',\n",
       "       '@CNN Loved it!',\n",
       "       '@CNN I am still outraged Penn gave back Srs retirement! Paterno was treated worse than these two pieces of garbage!',\n",
       "       '@CNN This whole credit score racket is a pyramid scam these companys have allowed Americans info to be stolen and we pay for it in all ways!',\n",
       "       '@CNN Like a good parent dealing with a teen or toddler as Congress acts like! Whew wish him well!',\n",
       "       '@CNN So elitist so ignorant  WHO ARE THEY HURTING seems it was never about helping after all ONLY ATTENTION! God sees hypocrites!',\n",
       "       '@CNN So elitist so ignorant  WHO ARE THEY HURTING seems it was never about helping after all ONLY ATTENTION! God sees hypocrites!',\n",
       "       '@CNN God Bless POTUS he has ALL AMERICANS back thats why there is so many haters!',\n",
       "       '@CNN Oh you just never know where to draw the line! Your despicable! The gov intel should have a word with you!',\n",
       "       '@CNN So did a you CNN dudes running out your building yes All did  WHAT LYING ARENT YOU AFRAID OF?',\n",
       "       '@CNN @FareedZakaria @donlemon Change in rules of engagement you igit! Hey go embed yourself check it out!',\n",
       "       '@CNN Hey Liberals its a great day POTUS is curing another disease in America LIBERALISM yes one democrat at a time! God Bless All!',\n",
       "       '@CNN Oh yes the left dems and media want POTUS to own all the mistakes Obama created but history will tell the truth unlike you FAKE NEWS',\n",
       "       '@CNN You rhinos worse than dems repubs were given BOTH the house &amp; senate shouldnt be hard to put peoples agenda forward DO IT NOW',\n",
       "       '@CNN And Pelosi and daddy helped put them up WHAT WHAT YOU SAY NOW  you are a biased ugly hate spewing station!',\n",
       "       '@CNN Call out Pelosi her and daddy who dedicated them yes tell this truth you hate spewers!',\n",
       "       '@FEMA_Brock @Scavino45 Keep up the good work KEEP POTUS &amp; America safe!',\n",
       "       '@CNN Flake you are losing this position we AZ are voting you out!',\n",
       "       '@CNN Beautiful speech!',\n",
       "       '@CNN McShame you lost two elections people did not find you qualified for Prez POTUS was voted in by people in 50 s… https://t.co/xxkLP3bdWG',\n",
       "       '@CNN Oh geez PC garbage you left out girls cry cry cry find a real problem',\n",
       "       '@CNN Fake reporting if you read his words he told owners to call them SOBs why are media making up words oh its bias!',\n",
       "       '@CNN Oh give me a break you FAKE NEWS spin anything repub into something ugly! Such crying whining snowflakes ! Its… https://t.co/oMREnei5Be',\n",
       "       '@CNN The surprise here would have been that any power survived! Move on its pioneer days and survival until help arrives!',\n",
       "       '@CNN @MikeBloomberg Is that cause they were put out of business when you had a salt overreaction?',\n",
       "       '@CNN We AZ residents love POTUS and his actions trying to put Americans first! fake news harms America thats your path',\n",
       "       '@CNN CNN you really make me nauseous GOOD LUCK yoyrselves remaining anything but FAKE NEWS!',\n",
       "       '@CNN CNN thats not why POTUS going quit! Guess you Fake newsies needs comfort cause you know America is tired of your hatefulness &amp; lies!',\n",
       "       '@CNN POTUS great job DACA talk to Congress they must write law! Welcome DACA to following the laws! America first!',\n",
       "       '@CNN @brianstelter NFL &amp; elite athletes already divided us all do this on your own time not on the job',\n",
       "       '@CNN The DC SWAMP who are they? They dont represent the voter anylonger! Just like this media NO LONGER reports truth!',\n",
       "       '@CNN The not cleaning up beattle kill is more harmful to our forests than anything! Good husbandry of our land forg… https://t.co/zJluvoWrAO',\n",
       "       '@CNN FAKE NEWS!McCain fake dossier prob in HRC emails Flake a book peddler&amp; liar both prob blackmailed by DWS IT gu… https://t.co/WpWGzPrTdJ',\n",
       "       '@CNN CLAP on CLAP off CNN on CNN off - their both off right yes off their rocks!',\n",
       "       '@CNN Give me my doctor give me my doctor ive my doctor back to me!!!',\n",
       "       '@CNN @neiltyson I might not recover from the ugly hyprocrisy of climate pyramid scams use your money not mine for your ideas!'],\n",
       "      dtype=object)"
      ]
     },
     "execution_count": 309,
     "metadata": {},
     "output_type": "execute_result"
    }
   ],
   "source": [
    "HARVEY_gb_user.get_group('2015gardener').text.values"
   ]
  },
  {
   "cell_type": "code",
   "execution_count": 297,
   "metadata": {},
   "outputs": [
    {
     "data": {
      "text/plain": [
       "array([[<matplotlib.axes._subplots.AxesSubplot object at 0x7fee7b96c9b0>]],\n",
       "      dtype=object)"
      ]
     },
     "execution_count": 297,
     "metadata": {},
     "output_type": "execute_result"
    },
    {
     "data": {
      "image/png": "[encoded data removed]",
      "text/plain": [
       "<matplotlib.figure.Figure at 0x7fee766226d8>"
      ]
     },
     "metadata": {},
     "output_type": "display_data"
    }
   ],
   "source": [
    "pd.DataFrame({'Adaptive Capacity' : [x[1] for x in HARVEY_92_USERS_AC]}).hist(bins=[1,2,3,4,5,6,7,8,10,100,200,1000])"
   ]
  },
  {
   "cell_type": "code",
   "execution_count": 294,
   "metadata": {},
   "outputs": [
    {
     "data": {
      "text/plain": [
       "array([[<matplotlib.axes._subplots.AxesSubplot object at 0x7fee76d811d0>]],\n",
       "      dtype=object)"
      ]
     },
     "execution_count": 294,
     "metadata": {},
     "output_type": "execute_result"
    },
    {
     "data": {
      "image/png": "[encoded data removed]",
      "text/plain": [
       "<matplotlib.figure.Figure at 0x7fee772fb3c8>"
      ]
     },
     "metadata": {},
     "output_type": "display_data"
    }
   ],
   "source": [
    "pd.DataFrame({'Social Networks' : [x[1] for x in HARVEY_92_USERS_SN]}).hist(bins=[1,2,3,4,5,6,7,8,10,100,200,1000])"
   ]
  },
  {
   "cell_type": "code",
   "execution_count": 295,
   "metadata": {},
   "outputs": [
    {
     "data": {
      "text/plain": [
       "array([[<matplotlib.axes._subplots.AxesSubplot object at 0x7fee76031a90>]],\n",
       "      dtype=object)"
      ]
     },
     "execution_count": 295,
     "metadata": {},
     "output_type": "execute_result"
    },
    {
     "data": {
      "image/png": "[encoded data removed]",
      "text/plain": [
       "<matplotlib.figure.Figure at 0x7fee763492b0>"
      ]
     },
     "metadata": {},
     "output_type": "display_data"
    }
   ],
   "source": [
    "pd.DataFrame({'Decison Making' : [x[1] for x in HARVEY_92_USERS_DM]}).hist(bins=[1,2,3,4,5,6,7,8,10,100,200,1000])"
   ]
  },
  {
   "cell_type": "markdown",
   "metadata": {},
   "source": [
    "# Now for Matthew"
   ]
  },
  {
   "cell_type": "code",
   "execution_count": 195,
   "metadata": {},
   "outputs": [
    {
     "name": "stdout",
     "output_type": "stream",
     "text": [
      "1910995\n"
     ]
    }
   ],
   "source": [
    "matthew = pd.DataFrame(TWEETS)\n",
    "matthew['date'] = matthew.created_at.apply(lambda x: x.date())\n",
    "print(len(df))"
   ]
  },
  {
   "cell_type": "code",
   "execution_count": 196,
   "metadata": {
    "scrolled": false
   },
   "outputs": [
    {
     "data": {
      "text/html": [
       "<div>\n",
       "<style scoped>\n",
       "    .dataframe tbody tr th:only-of-type {\n",
       "        vertical-align: middle;\n",
       "    }\n",
       "\n",
       "    .dataframe tbody tr th {\n",
       "        vertical-align: top;\n",
       "    }\n",
       "\n",
       "    .dataframe thead th {\n",
       "        text-align: right;\n",
       "    }\n",
       "</style>\n",
       "<table border=\"1\" class=\"dataframe\">\n",
       "  <thead>\n",
       "    <tr style=\"text-align: right;\">\n",
       "      <th></th>\n",
       "      <th>created_at</th>\n",
       "      <th>id</th>\n",
       "      <th>text</th>\n",
       "      <th>user</th>\n",
       "      <th>verb</th>\n",
       "      <th>date</th>\n",
       "    </tr>\n",
       "  </thead>\n",
       "  <tbody>\n",
       "    <tr>\n",
       "      <th>0</th>\n",
       "      <td>2016-08-26 16:02:24</td>\n",
       "      <td>769203351401689088</td>\n",
       "      <td>I'm at Kebab Café in Fort-de-France, Martiniqu...</td>\n",
       "      <td>Ced_BM</td>\n",
       "      <td>post</td>\n",
       "      <td>2016-08-26</td>\n",
       "    </tr>\n",
       "    <tr>\n",
       "      <th>1</th>\n",
       "      <td>2016-08-26 16:02:08</td>\n",
       "      <td>769203282514440193</td>\n",
       "      <td>I don't want Hollywood I want Forbes. #positiv...</td>\n",
       "      <td>greggar_d</td>\n",
       "      <td>post</td>\n",
       "      <td>2016-08-26</td>\n",
       "    </tr>\n",
       "    <tr>\n",
       "      <th>2</th>\n",
       "      <td>2016-08-26 16:04:23</td>\n",
       "      <td>769203849420738561</td>\n",
       "      <td>If Martinique nice one more time will have to ...</td>\n",
       "      <td>FRASTWINZMUSIC</td>\n",
       "      <td>post</td>\n",
       "      <td>2016-08-26</td>\n",
       "    </tr>\n",
       "    <tr>\n",
       "      <th>3</th>\n",
       "      <td>2016-08-26 16:06:31</td>\n",
       "      <td>769204385910063104</td>\n",
       "      <td>I'm at Chez Moi 😼 https://t.co/ocTN8osd3h</td>\n",
       "      <td>Amigo_stn</td>\n",
       "      <td>post</td>\n",
       "      <td>2016-08-26</td>\n",
       "    </tr>\n",
       "    <tr>\n",
       "      <th>4</th>\n",
       "      <td>2016-08-26 16:09:04</td>\n",
       "      <td>769205026858336256</td>\n",
       "      <td>Happy birthday to KING Valmix 👑 @djvalmix  #la...</td>\n",
       "      <td>ZoekikiAyiti</td>\n",
       "      <td>post</td>\n",
       "      <td>2016-08-26</td>\n",
       "    </tr>\n",
       "  </tbody>\n",
       "</table>\n",
       "</div>"
      ],
      "text/plain": [
       "           created_at                  id  \\\n",
       "0 2016-08-26 16:02:24  769203351401689088   \n",
       "1 2016-08-26 16:02:08  769203282514440193   \n",
       "2 2016-08-26 16:04:23  769203849420738561   \n",
       "3 2016-08-26 16:06:31  769204385910063104   \n",
       "4 2016-08-26 16:09:04  769205026858336256   \n",
       "\n",
       "                                                text            user  verb  \\\n",
       "0  I'm at Kebab Café in Fort-de-France, Martiniqu...          Ced_BM  post   \n",
       "1  I don't want Hollywood I want Forbes. #positiv...       greggar_d  post   \n",
       "2  If Martinique nice one more time will have to ...  FRASTWINZMUSIC  post   \n",
       "3          I'm at Chez Moi 😼 https://t.co/ocTN8osd3h       Amigo_stn  post   \n",
       "4  Happy birthday to KING Valmix 👑 @djvalmix  #la...    ZoekikiAyiti  post   \n",
       "\n",
       "         date  \n",
       "0  2016-08-26  \n",
       "1  2016-08-26  \n",
       "2  2016-08-26  \n",
       "3  2016-08-26  \n",
       "4  2016-08-26  "
      ]
     },
     "execution_count": 196,
     "metadata": {},
     "output_type": "execute_result"
    }
   ],
   "source": [
    "matthew.head()"
   ]
  },
  {
   "cell_type": "code",
   "execution_count": 197,
   "metadata": {},
   "outputs": [],
   "source": [
    "MATTHEW_WORDS_160 = ['storm','flooding','house','waters','surge','evacuate','hurricane','information','rains','country','community','level','leave','island','news','weather','coast','moving','damage','risk','forecast','neighborhood','power','rising','zone','media','decision','preparing','hotel','marsh','drain','river','emergency','mandatory','scary','wind','government','tidal','tornado','worst','raise','coastal','events','fema','highest','scare','service','block','drainage','causeway','bottom','hill','katrina','traffic','urgency','management','neighbor','worried','hospital','television','tropical','voluntary','warning','alert','barrier','broadcasting','danger','generators','landmark','newspaper','ocean','climate','computer','disability','nature','parents','plain','radar','roof','sand','underwater','channel','disaster','lower','meetings','notice','pollution',' telephone','together','afraid','approaching','electricity','guard','meteorologist','reporting','survive','warming',' wave','commissioners','connect','country','dark','deep','engineering','gulf','lake','message','patients','responsibility','roots','animals','citizens','depot','devastating','died','dogs','drove','environment','googling','intertidal','landscape','nursing','panic','police','pump','repaired','resources','respect','sewer','siren','soaked','source','spread','stuck','tributaries','washed','website','announcements','authority','break','buses','cellphone','cuts','debris','disadvantage','downstream','extreme','fire','food','foundation','hazard','marshside','recovery','shaking','swept','terrible','shelter','threat','trouble','uncertainty']\n",
    "MATTHEW_WORDS_95  = ['storm','flooding','house','waters','surge','evacuate','hurricane','information','rains','community','leave','maps','island','news','weather','coast','damage','risk','forecast','power','rising','media','decision','preparing','emergency','mandatory','scary','wind','government','tidal','tornado','coastal','fema','scare',' service','drainage','causway','katrina','traffic','urgency','managment','mother','nieghbor','hospital','television','tropical','volutary','warning','alert','broadcasting','danger','generators','landmark','newspaper','climate',' computer','parents','radar','roof','underwater','airport','disaster','pollution','telephone','afraid','appraoching','electricity','meteorologist','survive',' wave','commissioners','gulf','devastating','died','environmet','googling','intertidal','panic','police','resources','siren','soaked','stuck','website','announcements','authority','buses',' cellphone',' debris','extreme','fire','hazard','recovery','terrible','shelter']"
   ]
  },
  {
   "cell_type": "code",
   "execution_count": 198,
   "metadata": {},
   "outputs": [],
   "source": [
    "matthew['matthew160'] = matthew.text.apply(lambda text: pd.Series([x in text for x in MATTHEW_WORDS_160]).any())\n",
    "matthew['matthew92']  = matthew.text.apply(lambda text: pd.Series([x in text for x in MATTHEW_WORDS_95]).any())"
   ]
  },
  {
   "cell_type": "code",
   "execution_count": 200,
   "metadata": {},
   "outputs": [
    {
     "data": {
      "text/html": [
       "<div>\n",
       "<style scoped>\n",
       "    .dataframe tbody tr th:only-of-type {\n",
       "        vertical-align: middle;\n",
       "    }\n",
       "\n",
       "    .dataframe tbody tr th {\n",
       "        vertical-align: top;\n",
       "    }\n",
       "\n",
       "    .dataframe thead th {\n",
       "        text-align: right;\n",
       "    }\n",
       "</style>\n",
       "<table border=\"1\" class=\"dataframe\">\n",
       "  <thead>\n",
       "    <tr style=\"text-align: right;\">\n",
       "      <th></th>\n",
       "      <th>created_at</th>\n",
       "      <th>id</th>\n",
       "      <th>text</th>\n",
       "      <th>user</th>\n",
       "      <th>verb</th>\n",
       "      <th>date</th>\n",
       "      <th>matthew160</th>\n",
       "      <th>matthew92</th>\n",
       "    </tr>\n",
       "  </thead>\n",
       "  <tbody>\n",
       "    <tr>\n",
       "      <th>0</th>\n",
       "      <td>2016-08-26 16:02:24</td>\n",
       "      <td>769203351401689088</td>\n",
       "      <td>I'm at Kebab Café in Fort-de-France, Martiniqu...</td>\n",
       "      <td>Ced_BM</td>\n",
       "      <td>post</td>\n",
       "      <td>2016-08-26</td>\n",
       "      <td>False</td>\n",
       "      <td>False</td>\n",
       "    </tr>\n",
       "    <tr>\n",
       "      <th>1</th>\n",
       "      <td>2016-08-26 16:02:08</td>\n",
       "      <td>769203282514440193</td>\n",
       "      <td>I don't want Hollywood I want Forbes. #positiv...</td>\n",
       "      <td>greggar_d</td>\n",
       "      <td>post</td>\n",
       "      <td>2016-08-26</td>\n",
       "      <td>True</td>\n",
       "      <td>True</td>\n",
       "    </tr>\n",
       "    <tr>\n",
       "      <th>2</th>\n",
       "      <td>2016-08-26 16:04:23</td>\n",
       "      <td>769203849420738561</td>\n",
       "      <td>If Martinique nice one more time will have to ...</td>\n",
       "      <td>FRASTWINZMUSIC</td>\n",
       "      <td>post</td>\n",
       "      <td>2016-08-26</td>\n",
       "      <td>False</td>\n",
       "      <td>False</td>\n",
       "    </tr>\n",
       "    <tr>\n",
       "      <th>3</th>\n",
       "      <td>2016-08-26 16:06:31</td>\n",
       "      <td>769204385910063104</td>\n",
       "      <td>I'm at Chez Moi 😼 https://t.co/ocTN8osd3h</td>\n",
       "      <td>Amigo_stn</td>\n",
       "      <td>post</td>\n",
       "      <td>2016-08-26</td>\n",
       "      <td>False</td>\n",
       "      <td>False</td>\n",
       "    </tr>\n",
       "    <tr>\n",
       "      <th>4</th>\n",
       "      <td>2016-08-26 16:09:04</td>\n",
       "      <td>769205026858336256</td>\n",
       "      <td>Happy birthday to KING Valmix 👑 @djvalmix  #la...</td>\n",
       "      <td>ZoekikiAyiti</td>\n",
       "      <td>post</td>\n",
       "      <td>2016-08-26</td>\n",
       "      <td>False</td>\n",
       "      <td>False</td>\n",
       "    </tr>\n",
       "  </tbody>\n",
       "</table>\n",
       "</div>"
      ],
      "text/plain": [
       "           created_at                  id  \\\n",
       "0 2016-08-26 16:02:24  769203351401689088   \n",
       "1 2016-08-26 16:02:08  769203282514440193   \n",
       "2 2016-08-26 16:04:23  769203849420738561   \n",
       "3 2016-08-26 16:06:31  769204385910063104   \n",
       "4 2016-08-26 16:09:04  769205026858336256   \n",
       "\n",
       "                                                text            user  verb  \\\n",
       "0  I'm at Kebab Café in Fort-de-France, Martiniqu...          Ced_BM  post   \n",
       "1  I don't want Hollywood I want Forbes. #positiv...       greggar_d  post   \n",
       "2  If Martinique nice one more time will have to ...  FRASTWINZMUSIC  post   \n",
       "3          I'm at Chez Moi 😼 https://t.co/ocTN8osd3h       Amigo_stn  post   \n",
       "4  Happy birthday to KING Valmix 👑 @djvalmix  #la...    ZoekikiAyiti  post   \n",
       "\n",
       "         date  matthew160  matthew92  \n",
       "0  2016-08-26       False      False  \n",
       "1  2016-08-26        True       True  \n",
       "2  2016-08-26       False      False  \n",
       "3  2016-08-26       False      False  \n",
       "4  2016-08-26       False      False  "
      ]
     },
     "execution_count": 200,
     "metadata": {},
     "output_type": "execute_result"
    }
   ],
   "source": [
    "matthew.head()"
   ]
  },
  {
   "cell_type": "code",
   "execution_count": 218,
   "metadata": {},
   "outputs": [
    {
     "name": "stdout",
     "output_type": "stream",
     "text": [
      "All Tweets: 3434483 | Users: 230807\n",
      "Tweets in the Matthew 160 Collection:  335858\n",
      "Users in the Matthew 160 Collection:  73949\n"
     ]
    }
   ],
   "source": [
    "print(\"All Tweets: {0} | Users: {1}\".format(len(matthew), matthew.user.nunique()))\n",
    "print(\"Tweets in the Matthew 160 Collection: \", len(matthew.query('matthew160')))\n",
    "print(\"Users in the Matthew 160 Collection: \", matthew.query('matthew160').user.nunique())"
   ]
  },
  {
   "cell_type": "code",
   "execution_count": 219,
   "metadata": {
    "scrolled": true
   },
   "outputs": [
    {
     "name": "stdout",
     "output_type": "stream",
     "text": [
      "All Tweets: 3434483 | Users: 230807\n",
      "Tweets in the Matthew 92 Collection:  188716\n",
      "Users in the Matthew 92 Collection:  50004\n"
     ]
    }
   ],
   "source": [
    "print(\"All Tweets: {0} | Users: {1}\".format(len(matthew), matthew.user.nunique()))\n",
    "print(\"Tweets in the Matthew 92 Collection: \", len(matthew.query('matthew92')))\n",
    "print(\"Users in the Matthew 92 Collection: \", matthew.query('matthew92').user.nunique())"
   ]
  },
  {
   "cell_type": "markdown",
   "metadata": {},
   "source": [
    "## Second Level Filtering"
   ]
  },
  {
   "cell_type": "code",
   "execution_count": null,
   "metadata": {},
   "outputs": [],
   "source": [
    "matthew['SOCIAL_NETWORKS'] = matthew.text.apply(lambda text: pd.Series([x in text for x in SOCIAL_NETWORKS]).any())\n",
    "matthew['DECISION_MAKING']  = matthew.text.apply(lambda text: pd.Series([x in text for x in DECISION_MAKING]).any())\n",
    "matthew['ADAPTIVE_CAPACITY']  = matthew.text.apply(lambda text: pd.Series([x in text for x in ADAPTIVE_CAPACITY]).any())"
   ]
  },
  {
   "cell_type": "code",
   "execution_count": 314,
   "metadata": {
    "scrolled": false
   },
   "outputs": [
    {
     "data": {
      "text/html": [
       "<div>\n",
       "<style scoped>\n",
       "    .dataframe tbody tr th:only-of-type {\n",
       "        vertical-align: middle;\n",
       "    }\n",
       "\n",
       "    .dataframe tbody tr th {\n",
       "        vertical-align: top;\n",
       "    }\n",
       "\n",
       "    .dataframe thead th {\n",
       "        text-align: right;\n",
       "    }\n",
       "</style>\n",
       "<table border=\"1\" class=\"dataframe\">\n",
       "  <thead>\n",
       "    <tr style=\"text-align: right;\">\n",
       "      <th></th>\n",
       "      <th>created_at</th>\n",
       "      <th>id</th>\n",
       "      <th>text</th>\n",
       "      <th>user</th>\n",
       "      <th>verb</th>\n",
       "      <th>date</th>\n",
       "      <th>matthew160</th>\n",
       "      <th>matthew92</th>\n",
       "      <th>SOCIAL_NETWORKS</th>\n",
       "      <th>DECISION_MAKING</th>\n",
       "      <th>ADAPTIVE_CAPACITY</th>\n",
       "    </tr>\n",
       "  </thead>\n",
       "  <tbody>\n",
       "    <tr>\n",
       "      <th>0</th>\n",
       "      <td>2016-08-26 16:02:24</td>\n",
       "      <td>769203351401689088</td>\n",
       "      <td>I'm at Kebab Café in Fort-de-France, Martiniqu...</td>\n",
       "      <td>Ced_BM</td>\n",
       "      <td>post</td>\n",
       "      <td>2016-08-26</td>\n",
       "      <td>False</td>\n",
       "      <td>False</td>\n",
       "      <td>False</td>\n",
       "      <td>False</td>\n",
       "      <td>False</td>\n",
       "    </tr>\n",
       "    <tr>\n",
       "      <th>1</th>\n",
       "      <td>2016-08-26 16:02:08</td>\n",
       "      <td>769203282514440193</td>\n",
       "      <td>I don't want Hollywood I want Forbes. #positiv...</td>\n",
       "      <td>greggar_d</td>\n",
       "      <td>post</td>\n",
       "      <td>2016-08-26</td>\n",
       "      <td>True</td>\n",
       "      <td>True</td>\n",
       "      <td>False</td>\n",
       "      <td>True</td>\n",
       "      <td>False</td>\n",
       "    </tr>\n",
       "    <tr>\n",
       "      <th>2</th>\n",
       "      <td>2016-08-26 16:04:23</td>\n",
       "      <td>769203849420738561</td>\n",
       "      <td>If Martinique nice one more time will have to ...</td>\n",
       "      <td>FRASTWINZMUSIC</td>\n",
       "      <td>post</td>\n",
       "      <td>2016-08-26</td>\n",
       "      <td>False</td>\n",
       "      <td>False</td>\n",
       "      <td>False</td>\n",
       "      <td>False</td>\n",
       "      <td>False</td>\n",
       "    </tr>\n",
       "    <tr>\n",
       "      <th>3</th>\n",
       "      <td>2016-08-26 16:06:31</td>\n",
       "      <td>769204385910063104</td>\n",
       "      <td>I'm at Chez Moi 😼 https://t.co/ocTN8osd3h</td>\n",
       "      <td>Amigo_stn</td>\n",
       "      <td>post</td>\n",
       "      <td>2016-08-26</td>\n",
       "      <td>False</td>\n",
       "      <td>False</td>\n",
       "      <td>False</td>\n",
       "      <td>False</td>\n",
       "      <td>False</td>\n",
       "    </tr>\n",
       "    <tr>\n",
       "      <th>4</th>\n",
       "      <td>2016-08-26 16:09:04</td>\n",
       "      <td>769205026858336256</td>\n",
       "      <td>Happy birthday to KING Valmix 👑 @djvalmix  #la...</td>\n",
       "      <td>ZoekikiAyiti</td>\n",
       "      <td>post</td>\n",
       "      <td>2016-08-26</td>\n",
       "      <td>False</td>\n",
       "      <td>False</td>\n",
       "      <td>False</td>\n",
       "      <td>True</td>\n",
       "      <td>False</td>\n",
       "    </tr>\n",
       "  </tbody>\n",
       "</table>\n",
       "</div>"
      ],
      "text/plain": [
       "           created_at                  id  \\\n",
       "0 2016-08-26 16:02:24  769203351401689088   \n",
       "1 2016-08-26 16:02:08  769203282514440193   \n",
       "2 2016-08-26 16:04:23  769203849420738561   \n",
       "3 2016-08-26 16:06:31  769204385910063104   \n",
       "4 2016-08-26 16:09:04  769205026858336256   \n",
       "\n",
       "                                                text            user  verb  \\\n",
       "0  I'm at Kebab Café in Fort-de-France, Martiniqu...          Ced_BM  post   \n",
       "1  I don't want Hollywood I want Forbes. #positiv...       greggar_d  post   \n",
       "2  If Martinique nice one more time will have to ...  FRASTWINZMUSIC  post   \n",
       "3          I'm at Chez Moi 😼 https://t.co/ocTN8osd3h       Amigo_stn  post   \n",
       "4  Happy birthday to KING Valmix 👑 @djvalmix  #la...    ZoekikiAyiti  post   \n",
       "\n",
       "         date  matthew160  matthew92  SOCIAL_NETWORKS  DECISION_MAKING  \\\n",
       "0  2016-08-26       False      False            False            False   \n",
       "1  2016-08-26        True       True            False             True   \n",
       "2  2016-08-26       False      False            False            False   \n",
       "3  2016-08-26       False      False            False            False   \n",
       "4  2016-08-26       False      False            False             True   \n",
       "\n",
       "   ADAPTIVE_CAPACITY  \n",
       "0              False  \n",
       "1              False  \n",
       "2              False  \n",
       "3              False  \n",
       "4              False  "
      ]
     },
     "execution_count": 314,
     "metadata": {},
     "output_type": "execute_result"
    }
   ],
   "source": [
    "matthew.head()"
   ]
  },
  {
   "cell_type": "markdown",
   "metadata": {},
   "source": [
    "### Now group the dataframes by user and get counts for tweets within the second level filtering"
   ]
  },
  {
   "cell_type": "code",
   "execution_count": 315,
   "metadata": {},
   "outputs": [],
   "source": [
    "MATTHEW_gb_user = matthew.groupby('user')"
   ]
  },
  {
   "cell_type": "markdown",
   "metadata": {},
   "source": [
    "Going into the next phase: \n",
    "\n",
    "`len(MATTHEW_92_USERS_SN),len(MATTHEW_92_USERS_DM),len(MATTHEW_92_USERS_AC)`\n",
    "\n",
    "(27979, 39411, 25767)"
   ]
  },
  {
   "cell_type": "code",
   "execution_count": 318,
   "metadata": {},
   "outputs": [],
   "source": [
    "THRESHOLD = 10;\n",
    "MATTHEW_92_USERS_SN = []\n",
    "MATTHEW_92_USERS_DM = []\n",
    "MATTHEW_92_USERS_AC = []\n",
    "for user, tweets in MATTHEW_gb_user:\n",
    "    if tweets.matthew92.any():\n",
    "        if tweets.SOCIAL_NETWORKS.sum() > THRESHOLD:\n",
    "            MATTHEW_92_USERS_SN.append( (user, tweets.SOCIAL_NETWORKS.sum() ) )\n",
    "        if tweets.DECISION_MAKING.sum() > THRESHOLD:\n",
    "            MATTHEW_92_USERS_DM.append( (user, tweets.DECISION_MAKING.sum() ) )\n",
    "        if tweets.ADAPTIVE_CAPACITY.sum() > THRESHOLD:\n",
    "            MATTHEW_92_USERS_AC.append( (user, tweets.ADAPTIVE_CAPACITY.sum() ) )"
   ]
  },
  {
   "cell_type": "code",
   "execution_count": 320,
   "metadata": {},
   "outputs": [
    {
     "data": {
      "text/plain": [
       "(3336, 8730, 2112)"
      ]
     },
     "execution_count": 320,
     "metadata": {},
     "output_type": "execute_result"
    }
   ],
   "source": [
    "len(MATTHEW_92_USERS_SN),len(MATTHEW_92_USERS_DM),len(MATTHEW_92_USERS_AC)"
   ]
  },
  {
   "cell_type": "code",
   "execution_count": 361,
   "metadata": {},
   "outputs": [
    {
     "ename": "AttributeError",
     "evalue": "'list' object has no attribute 'sample'",
     "output_type": "error",
     "traceback": [
      "\u001b[0;31m---------------------------------------------------------------------------\u001b[0m",
      "\u001b[0;31mAttributeError\u001b[0m                            Traceback (most recent call last)",
      "\u001b[0;32m<ipython-input-361-839d70a18fe1>\u001b[0m in \u001b[0;36m<module>\u001b[0;34m()\u001b[0m\n\u001b[0;32m----> 1\u001b[0;31m \u001b[0mMATTHEW_92_USERS_AC\u001b[0m\u001b[0;34m.\u001b[0m\u001b[0msample\u001b[0m\u001b[0;34m(\u001b[0m\u001b[0;36m10\u001b[0m\u001b[0;34m)\u001b[0m\u001b[0;34m\u001b[0m\u001b[0m\n\u001b[0m",
      "\u001b[0;31mAttributeError\u001b[0m: 'list' object has no attribute 'sample'"
     ]
    }
   ],
   "source": [
    "MATTHEW_92_USERS_AC.sample(10)"
   ]
  },
  {
   "cell_type": "code",
   "execution_count": 358,
   "metadata": {
    "scrolled": false
   },
   "outputs": [
    {
     "data": {
      "text/plain": [
       "array(['@SadityNessa 😭😭😭😭...', 'stay in yo lane hoe 😎',\n",
       "       \"I've lived in Miami my whole life and people always ask where I'm from because I don't sound like I'm from Miami 😑😒\",\n",
       "       ...,\n",
       "       'A boy walked up to me &amp; I said I got a boyfriend &amp; this boy stuttered the whole time, not a sentence came out I stg I tried to not laugh😭',\n",
       "       'I need some 4am friends I be hype all by myself 😭',\n",
       "       \"Nigga *🗣💯... Now I'm a jab g shit 😭 https://t.co/wbJJswJI7w\"],\n",
       "      dtype=object)"
      ]
     },
     "execution_count": 358,
     "metadata": {},
     "output_type": "execute_result"
    }
   ],
   "source": [
    "MATTHEW_gb_user.get_group('BeauSadity').text.values"
   ]
  },
  {
   "cell_type": "code",
   "execution_count": null,
   "metadata": {},
   "outputs": [],
   "source": []
  },
  {
   "cell_type": "code",
   "execution_count": 359,
   "metadata": {},
   "outputs": [],
   "source": [
    "#Let's also try the keyword collection from Matthew?"
   ]
  },
  {
   "cell_type": "code",
   "execution_count": 360,
   "metadata": {
    "scrolled": false
   },
   "outputs": [
    {
     "name": "stdout",
     "output_type": "stream",
     "text": [
      "Found 3888 GNIP files, limit: None\n"
     ]
    },
    {
     "name": "stderr",
     "output_type": "stream",
     "text": [
      "3001 tweets parsed                                                              3887 files; 13826161 tweets"
     ]
    },
    {
     "name": "stdout",
     "output_type": "stream",
     "text": [
      "3888 files processed with 13830252 tweets, skipped 8367258 retweets\n"
     ]
    },
    {
     "name": "stderr",
     "output_type": "stream",
     "text": [
      "\r",
      "4001 tweets parsed      "
     ]
    }
   ],
   "source": [
    "MATTHEWKEYWORD = get_tweets(EVENTS['matthew'], None)"
   ]
  },
  {
   "cell_type": "code",
   "execution_count": 362,
   "metadata": {},
   "outputs": [
    {
     "name": "stdout",
     "output_type": "stream",
     "text": [
      "1910995\n"
     ]
    }
   ],
   "source": [
    "MATTHEWKW = pd.DataFrame(MATTHEWKEYWORD)\n",
    "MATTHEWKW['date'] = MATTHEWKW.created_at.apply(lambda x: x.date())\n",
    "print(len(df))"
   ]
  },
  {
   "cell_type": "code",
   "execution_count": null,
   "metadata": {
    "scrolled": false
   },
   "outputs": [
    {
     "data": {
      "text/html": [
       "<div>\n",
       "<style scoped>\n",
       "    .dataframe tbody tr th:only-of-type {\n",
       "        vertical-align: middle;\n",
       "    }\n",
       "\n",
       "    .dataframe tbody tr th {\n",
       "        vertical-align: top;\n",
       "    }\n",
       "\n",
       "    .dataframe thead th {\n",
       "        text-align: right;\n",
       "    }\n",
       "</style>\n",
       "<table border=\"1\" class=\"dataframe\">\n",
       "  <thead>\n",
       "    <tr style=\"text-align: right;\">\n",
       "      <th></th>\n",
       "      <th>created_at</th>\n",
       "      <th>id</th>\n",
       "      <th>text</th>\n",
       "      <th>user</th>\n",
       "      <th>verb</th>\n",
       "      <th>date</th>\n",
       "    </tr>\n",
       "  </thead>\n",
       "  <tbody>\n",
       "    <tr>\n",
       "      <th>0</th>\n",
       "      <td>2016-10-10 17:20:58</td>\n",
       "      <td>785530577533427714</td>\n",
       "      <td>@Chathons32 @PokemonTrash @Mathieu_Sommet ... ...</td>\n",
       "      <td>HarmSonyk</td>\n",
       "      <td>post</td>\n",
       "      <td>2016-10-10</td>\n",
       "    </tr>\n",
       "    <tr>\n",
       "      <th>1</th>\n",
       "      <td>2016-10-10 17:20:58</td>\n",
       "      <td>785530578388955137</td>\n",
       "      <td>#Cuba Proyecto de FAO fortalece acuicultura cu...</td>\n",
       "      <td>rolandmartorell</td>\n",
       "      <td>post</td>\n",
       "      <td>2016-10-10</td>\n",
       "    </tr>\n",
       "    <tr>\n",
       "      <th>2</th>\n",
       "      <td>2016-10-10 17:20:59</td>\n",
       "      <td>785530580062511105</td>\n",
       "      <td>#Cuba Teatro Nacional de Cuba ya vive tiempos ...</td>\n",
       "      <td>rolandmartorell</td>\n",
       "      <td>post</td>\n",
       "      <td>2016-10-10</td>\n",
       "    </tr>\n",
       "    <tr>\n",
       "      <th>3</th>\n",
       "      <td>2016-10-10 17:20:59</td>\n",
       "      <td>785530579328565248</td>\n",
       "      <td>Hurricane Matthew has created an urgent need f...</td>\n",
       "      <td>SueWesterfield</td>\n",
       "      <td>post</td>\n",
       "      <td>2016-10-10</td>\n",
       "    </tr>\n",
       "    <tr>\n",
       "      <th>4</th>\n",
       "      <td>2016-10-10 17:20:59</td>\n",
       "      <td>785530579290771456</td>\n",
       "      <td>#Cuba Cuba denuncia en la ONU, en Ginebra, el ...</td>\n",
       "      <td>rolandmartorell</td>\n",
       "      <td>post</td>\n",
       "      <td>2016-10-10</td>\n",
       "    </tr>\n",
       "  </tbody>\n",
       "</table>\n",
       "</div>"
      ],
      "text/plain": [
       "           created_at                  id  \\\n",
       "0 2016-10-10 17:20:58  785530577533427714   \n",
       "1 2016-10-10 17:20:58  785530578388955137   \n",
       "2 2016-10-10 17:20:59  785530580062511105   \n",
       "3 2016-10-10 17:20:59  785530579328565248   \n",
       "4 2016-10-10 17:20:59  785530579290771456   \n",
       "\n",
       "                                                text             user  verb  \\\n",
       "0  @Chathons32 @PokemonTrash @Mathieu_Sommet ... ...        HarmSonyk  post   \n",
       "1  #Cuba Proyecto de FAO fortalece acuicultura cu...  rolandmartorell  post   \n",
       "2  #Cuba Teatro Nacional de Cuba ya vive tiempos ...  rolandmartorell  post   \n",
       "3  Hurricane Matthew has created an urgent need f...   SueWesterfield  post   \n",
       "4  #Cuba Cuba denuncia en la ONU, en Ginebra, el ...  rolandmartorell  post   \n",
       "\n",
       "         date  \n",
       "0  2016-10-10  \n",
       "1  2016-10-10  \n",
       "2  2016-10-10  \n",
       "3  2016-10-10  \n",
       "4  2016-10-10  "
      ]
     },
     "execution_count": 363,
     "metadata": {},
     "output_type": "execute_result"
    }
   ],
   "source": [
    "MATTHEWKW.head()"
   ]
  },
  {
   "cell_type": "code",
   "execution_count": null,
   "metadata": {},
   "outputs": [],
   "source": [
    "MATTHEWKW['matthew160'] = MATTHEWKW.text.apply(lambda text: pd.Series([x in text for x in MATTHEW_WORDS_160]).any())\n",
    "MATTHEWKW['matthew92']  = MATTHEWKW.text.apply(lambda text: pd.Series([x in text for x in MATTHEW_WORDS_95]).any())"
   ]
  },
  {
   "cell_type": "code",
   "execution_count": null,
   "metadata": {},
   "outputs": [],
   "source": [
    "MATTHEWKW.head()"
   ]
  },
  {
   "cell_type": "markdown",
   "metadata": {},
   "source": [
    "## Second Level Filtering"
   ]
  },
  {
   "cell_type": "code",
   "execution_count": null,
   "metadata": {},
   "outputs": [],
   "source": [
    "MATTHEWKW['SOCIAL_NETWORKS'] = MATTHEWKW.text.apply(lambda text: pd.Series([x in text for x in SOCIAL_NETWORKS]).any())\n",
    "MATTHEWKW['DECISION_MAKING']  = MATTHEWKW.text.apply(lambda text: pd.Series([x in text for x in DECISION_MAKING]).any())\n",
    "MATTHEWKW['ADAPTIVE_CAPACITY']  = MATTHEWKW.text.apply(lambda text: pd.Series([x in text for x in ADAPTIVE_CAPACITY]).any())"
   ]
  },
  {
   "cell_type": "code",
   "execution_count": 370,
   "metadata": {
    "scrolled": false
   },
   "outputs": [
    {
     "data": {
      "text/plain": [
       "array([\"@Chathons32 @PokemonTrash @Mathieu_Sommet ... et tu le regarde périr à petit feu (en le nourrissant pour qu'il se décompose dans son caca^^)\",\n",
       "       '#Cuba Proyecto de FAO fortalece acuicultura cubana https://t.co/pKHbZUCDR0 #CubaArchivo',\n",
       "       '#Cuba Teatro Nacional de Cuba ya vive tiempos de festival de ballet https://t.co/O0zyHBOM9Q #CubaArchivo',\n",
       "       'Hurricane Matthew has created an urgent need for assistance in Haiti, the Bahamas, and the U.S. https://t.co/tkXOsiFoPS',\n",
       "       '#Cuba Cuba denuncia en la ONU, en Ginebra, el impacto de bloqueo de EE.UU. https://t.co/tzk5KtNdwt #CubaArchivo'],\n",
       "      dtype=object)"
      ]
     },
     "execution_count": 370,
     "metadata": {},
     "output_type": "execute_result"
    }
   ],
   "source": [
    "MATTHEWKW.head().text.values"
   ]
  },
  {
   "cell_type": "code",
   "execution_count": 372,
   "metadata": {},
   "outputs": [
    {
     "data": {
      "text/html": [
       "<div>\n",
       "<style scoped>\n",
       "    .dataframe tbody tr th:only-of-type {\n",
       "        vertical-align: middle;\n",
       "    }\n",
       "\n",
       "    .dataframe tbody tr th {\n",
       "        vertical-align: top;\n",
       "    }\n",
       "\n",
       "    .dataframe thead th {\n",
       "        text-align: right;\n",
       "    }\n",
       "</style>\n",
       "<table border=\"1\" class=\"dataframe\">\n",
       "  <thead>\n",
       "    <tr style=\"text-align: right;\">\n",
       "      <th></th>\n",
       "      <th>created_at</th>\n",
       "      <th>id</th>\n",
       "      <th>text</th>\n",
       "      <th>user</th>\n",
       "      <th>verb</th>\n",
       "      <th>date</th>\n",
       "      <th>matthew160</th>\n",
       "      <th>matthew92</th>\n",
       "      <th>SOCIAL_NETWORKS</th>\n",
       "      <th>DECISION_MAKING</th>\n",
       "      <th>ADAPTIVE_CAPACITY</th>\n",
       "    </tr>\n",
       "  </thead>\n",
       "  <tbody>\n",
       "    <tr>\n",
       "      <th>0</th>\n",
       "      <td>2016-10-10 17:20:58</td>\n",
       "      <td>785530577533427714</td>\n",
       "      <td>@Chathons32 @PokemonTrash @Mathieu_Sommet ... ...</td>\n",
       "      <td>HarmSonyk</td>\n",
       "      <td>post</td>\n",
       "      <td>2016-10-10</td>\n",
       "      <td>False</td>\n",
       "      <td>False</td>\n",
       "      <td>True</td>\n",
       "      <td>True</td>\n",
       "      <td>False</td>\n",
       "    </tr>\n",
       "    <tr>\n",
       "      <th>1</th>\n",
       "      <td>2016-10-10 17:20:58</td>\n",
       "      <td>785530578388955137</td>\n",
       "      <td>#Cuba Proyecto de FAO fortalece acuicultura cu...</td>\n",
       "      <td>rolandmartorell</td>\n",
       "      <td>post</td>\n",
       "      <td>2016-10-10</td>\n",
       "      <td>False</td>\n",
       "      <td>False</td>\n",
       "      <td>False</td>\n",
       "      <td>False</td>\n",
       "      <td>False</td>\n",
       "    </tr>\n",
       "    <tr>\n",
       "      <th>2</th>\n",
       "      <td>2016-10-10 17:20:59</td>\n",
       "      <td>785530580062511105</td>\n",
       "      <td>#Cuba Teatro Nacional de Cuba ya vive tiempos ...</td>\n",
       "      <td>rolandmartorell</td>\n",
       "      <td>post</td>\n",
       "      <td>2016-10-10</td>\n",
       "      <td>False</td>\n",
       "      <td>False</td>\n",
       "      <td>False</td>\n",
       "      <td>False</td>\n",
       "      <td>False</td>\n",
       "    </tr>\n",
       "    <tr>\n",
       "      <th>3</th>\n",
       "      <td>2016-10-10 17:20:59</td>\n",
       "      <td>785530579328565248</td>\n",
       "      <td>Hurricane Matthew has created an urgent need f...</td>\n",
       "      <td>SueWesterfield</td>\n",
       "      <td>post</td>\n",
       "      <td>2016-10-10</td>\n",
       "      <td>False</td>\n",
       "      <td>False</td>\n",
       "      <td>False</td>\n",
       "      <td>False</td>\n",
       "      <td>True</td>\n",
       "    </tr>\n",
       "    <tr>\n",
       "      <th>4</th>\n",
       "      <td>2016-10-10 17:20:59</td>\n",
       "      <td>785530579290771456</td>\n",
       "      <td>#Cuba Cuba denuncia en la ONU, en Ginebra, el ...</td>\n",
       "      <td>rolandmartorell</td>\n",
       "      <td>post</td>\n",
       "      <td>2016-10-10</td>\n",
       "      <td>False</td>\n",
       "      <td>False</td>\n",
       "      <td>False</td>\n",
       "      <td>False</td>\n",
       "      <td>False</td>\n",
       "    </tr>\n",
       "  </tbody>\n",
       "</table>\n",
       "</div>"
      ],
      "text/plain": [
       "           created_at                  id  \\\n",
       "0 2016-10-10 17:20:58  785530577533427714   \n",
       "1 2016-10-10 17:20:58  785530578388955137   \n",
       "2 2016-10-10 17:20:59  785530580062511105   \n",
       "3 2016-10-10 17:20:59  785530579328565248   \n",
       "4 2016-10-10 17:20:59  785530579290771456   \n",
       "\n",
       "                                                text             user  verb  \\\n",
       "0  @Chathons32 @PokemonTrash @Mathieu_Sommet ... ...        HarmSonyk  post   \n",
       "1  #Cuba Proyecto de FAO fortalece acuicultura cu...  rolandmartorell  post   \n",
       "2  #Cuba Teatro Nacional de Cuba ya vive tiempos ...  rolandmartorell  post   \n",
       "3  Hurricane Matthew has created an urgent need f...   SueWesterfield  post   \n",
       "4  #Cuba Cuba denuncia en la ONU, en Ginebra, el ...  rolandmartorell  post   \n",
       "\n",
       "         date  matthew160  matthew92  SOCIAL_NETWORKS  DECISION_MAKING  \\\n",
       "0  2016-10-10       False      False             True             True   \n",
       "1  2016-10-10       False      False            False            False   \n",
       "2  2016-10-10       False      False            False            False   \n",
       "3  2016-10-10       False      False            False            False   \n",
       "4  2016-10-10       False      False            False            False   \n",
       "\n",
       "   ADAPTIVE_CAPACITY  \n",
       "0              False  \n",
       "1              False  \n",
       "2              False  \n",
       "3               True  \n",
       "4              False  "
      ]
     },
     "execution_count": 372,
     "metadata": {},
     "output_type": "execute_result"
    }
   ],
   "source": [
    "MATTHEWKW.head()"
   ]
  },
  {
   "cell_type": "code",
   "execution_count": 373,
   "metadata": {},
   "outputs": [],
   "source": [
    "MATTHEWKW_gb_user = MATTHEWKW.groupby('user')"
   ]
  },
  {
   "cell_type": "code",
   "execution_count": 374,
   "metadata": {},
   "outputs": [
    {
     "ename": "AttributeError",
     "evalue": "'DataFrame' object has no attribute 'MATTHEWKW_USERS_DM'",
     "output_type": "error",
     "traceback": [
      "\u001b[0;31m---------------------------------------------------------------------------\u001b[0m",
      "\u001b[0;31mAttributeError\u001b[0m                            Traceback (most recent call last)",
      "\u001b[0;32m<ipython-input-374-9f9eaa5f6643>\u001b[0m in \u001b[0;36m<module>\u001b[0;34m()\u001b[0m\n\u001b[1;32m      7\u001b[0m         \u001b[0;32mif\u001b[0m \u001b[0mtweets\u001b[0m\u001b[0;34m.\u001b[0m\u001b[0mSOCIAL_NETWORKS\u001b[0m\u001b[0;34m.\u001b[0m\u001b[0msum\u001b[0m\u001b[0;34m(\u001b[0m\u001b[0;34m)\u001b[0m \u001b[0;34m>\u001b[0m \u001b[0mTHRESHOLD\u001b[0m\u001b[0;34m:\u001b[0m\u001b[0;34m\u001b[0m\u001b[0m\n\u001b[1;32m      8\u001b[0m             \u001b[0mMATTHEWKW_USERS_SN\u001b[0m\u001b[0;34m.\u001b[0m\u001b[0mappend\u001b[0m\u001b[0;34m(\u001b[0m \u001b[0;34m(\u001b[0m\u001b[0muser\u001b[0m\u001b[0;34m,\u001b[0m \u001b[0mtweets\u001b[0m\u001b[0;34m.\u001b[0m\u001b[0mSOCIAL_NETWORKS\u001b[0m\u001b[0;34m.\u001b[0m\u001b[0msum\u001b[0m\u001b[0;34m(\u001b[0m\u001b[0;34m)\u001b[0m \u001b[0;34m)\u001b[0m \u001b[0;34m)\u001b[0m\u001b[0;34m\u001b[0m\u001b[0m\n\u001b[0;32m----> 9\u001b[0;31m         \u001b[0;32mif\u001b[0m \u001b[0mtweets\u001b[0m\u001b[0;34m.\u001b[0m\u001b[0mMATTHEWKW_USERS_DM\u001b[0m\u001b[0;34m.\u001b[0m\u001b[0msum\u001b[0m\u001b[0;34m(\u001b[0m\u001b[0;34m)\u001b[0m \u001b[0;34m>\u001b[0m \u001b[0mTHRESHOLD\u001b[0m\u001b[0;34m:\u001b[0m\u001b[0;34m\u001b[0m\u001b[0m\n\u001b[0m\u001b[1;32m     10\u001b[0m             \u001b[0mMATTHEW_92_USERS_DM\u001b[0m\u001b[0;34m.\u001b[0m\u001b[0mappend\u001b[0m\u001b[0;34m(\u001b[0m \u001b[0;34m(\u001b[0m\u001b[0muser\u001b[0m\u001b[0;34m,\u001b[0m \u001b[0mtweets\u001b[0m\u001b[0;34m.\u001b[0m\u001b[0mDECISION_MAKING\u001b[0m\u001b[0;34m.\u001b[0m\u001b[0msum\u001b[0m\u001b[0;34m(\u001b[0m\u001b[0;34m)\u001b[0m \u001b[0;34m)\u001b[0m \u001b[0;34m)\u001b[0m\u001b[0;34m\u001b[0m\u001b[0m\n\u001b[1;32m     11\u001b[0m         \u001b[0;32mif\u001b[0m \u001b[0mtweets\u001b[0m\u001b[0;34m.\u001b[0m\u001b[0mADAPTIVE_CAPACITY\u001b[0m\u001b[0;34m.\u001b[0m\u001b[0msum\u001b[0m\u001b[0;34m(\u001b[0m\u001b[0;34m)\u001b[0m \u001b[0;34m>\u001b[0m \u001b[0mTHRESHOLD\u001b[0m\u001b[0;34m:\u001b[0m\u001b[0;34m\u001b[0m\u001b[0m\n",
      "\u001b[0;32m/usr/local/lib/python3.6/dist-packages/pandas/core/generic.py\u001b[0m in \u001b[0;36m__getattr__\u001b[0;34m(self, name)\u001b[0m\n\u001b[1;32m   3612\u001b[0m             \u001b[0;32mif\u001b[0m \u001b[0mname\u001b[0m \u001b[0;32min\u001b[0m \u001b[0mself\u001b[0m\u001b[0;34m.\u001b[0m\u001b[0m_info_axis\u001b[0m\u001b[0;34m:\u001b[0m\u001b[0;34m\u001b[0m\u001b[0m\n\u001b[1;32m   3613\u001b[0m                 \u001b[0;32mreturn\u001b[0m \u001b[0mself\u001b[0m\u001b[0;34m[\u001b[0m\u001b[0mname\u001b[0m\u001b[0;34m]\u001b[0m\u001b[0;34m\u001b[0m\u001b[0m\n\u001b[0;32m-> 3614\u001b[0;31m             \u001b[0;32mreturn\u001b[0m \u001b[0mobject\u001b[0m\u001b[0;34m.\u001b[0m\u001b[0m__getattribute__\u001b[0m\u001b[0;34m(\u001b[0m\u001b[0mself\u001b[0m\u001b[0;34m,\u001b[0m \u001b[0mname\u001b[0m\u001b[0;34m)\u001b[0m\u001b[0;34m\u001b[0m\u001b[0m\n\u001b[0m\u001b[1;32m   3615\u001b[0m \u001b[0;34m\u001b[0m\u001b[0m\n\u001b[1;32m   3616\u001b[0m     \u001b[0;32mdef\u001b[0m \u001b[0m__setattr__\u001b[0m\u001b[0;34m(\u001b[0m\u001b[0mself\u001b[0m\u001b[0;34m,\u001b[0m \u001b[0mname\u001b[0m\u001b[0;34m,\u001b[0m \u001b[0mvalue\u001b[0m\u001b[0;34m)\u001b[0m\u001b[0;34m:\u001b[0m\u001b[0;34m\u001b[0m\u001b[0m\n",
      "\u001b[0;31mAttributeError\u001b[0m: 'DataFrame' object has no attribute 'MATTHEWKW_USERS_DM'"
     ]
    }
   ],
   "source": [
    "THRESHOLD = 10;\n",
    "MATTHEWKW_USERS_SN = []\n",
    "MATTHEWKW_USERS_DM = []\n",
    "MATTHEWKW_USERS_AC = []\n",
    "for user, tweets in MATTHEWKW_gb_user:\n",
    "    if tweets.matthew92.any():\n",
    "        if tweets.SOCIAL_NETWORKS.sum() > THRESHOLD:\n",
    "            MATTHEWKW_USERS_SN.append( (user, tweets.SOCIAL_NETWORKS.sum() ) )\n",
    "        if tweets.MATTHEWKW_USERS_DM.sum() > THRESHOLD:\n",
    "            MATTHEW_92_USERS_DM.append( (user, tweets.DECISION_MAKING.sum() ) )\n",
    "        if tweets.ADAPTIVE_CAPACITY.sum() > THRESHOLD:\n",
    "            MATTHEWKW_USERS_AC.append( (user, tweets.ADAPTIVE_CAPACITY.sum() ) )"
   ]
  },
  {
   "cell_type": "code",
   "execution_count": null,
   "metadata": {},
   "outputs": [],
   "source": []
  }
 ],
 "metadata": {
  "kernelspec": {
   "display_name": "Python 3",
   "language": "python",
   "name": "python3"
  },
  "language_info": {
   "codemirror_mode": {
    "name": "ipython",
    "version": 3
   },
   "file_extension": ".py",
   "mimetype": "text/x-python",
   "name": "python",
   "nbconvert_exporter": "python",
   "pygments_lexer": "ipython3",
   "version": "3.6.3"
  }
 },
 "nbformat": 4,
 "nbformat_minor": 2
}
