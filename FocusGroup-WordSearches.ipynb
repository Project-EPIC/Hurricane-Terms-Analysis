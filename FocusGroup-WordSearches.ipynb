{
 "cells": [
  {
   "cell_type": "markdown",
   "metadata": {},
   "source": [
    "## Load Contextual Plus Streams and do text searches"
   ]
  },
  {
   "cell_type": "code",
   "execution_count": 267,
   "metadata": {},
   "outputs": [],
   "source": [
    "import os, sys, gzip, json, pprint, pymongo, pandas as pd, numpy as np\n",
    "import matplotlib.pyplot as plt\n",
    "from datetime import datetime\n",
    "%matplotlib inline"
   ]
  },
  {
   "cell_type": "code",
   "execution_count": 93,
   "metadata": {},
   "outputs": [],
   "source": [
    "EVENTS = {\n",
    "#     'harvey'      : '/data/chime/Hurricanes_HIM/contextual-plus/OfficialSources_HIM/GNIP/', #HarveyIrma CP\n",
    "#     'matthew'     : '/data/chime/matthew/gnip/',              # This is all keyword collection from Matthew\n",
    "#     'matthew-geo' : '/data/chime/matthew/gnip-geo/all/' # This is all tweets from within the windswath of Matthew\n",
    "    'harvey_kw' : '/data/chime/Hurricanes_HIM/keyword/harvey/GNIP/',\n",
    "    'sandy'  : '/data/chime/sandy_tweets_gnip_simple.jsonl'\n",
    "}\n",
    "\n",
    "START_DATES = {\n",
    "    'sandy': datetime(2012,10,22,0,0,0),\n",
    "    'harvey_kw': datetime(2017,8,17,0,0,0)\n",
    "}\n",
    "\n",
    "END_DATES = {\n",
    "    'sandy': datetime(2012,10,31,0,0,0),\n",
    "    'harvey_kw': datetime(2017,8,27,0,0,0)\n",
    "}"
   ]
  },
  {
   "cell_type": "code",
   "execution_count": 94,
   "metadata": {},
   "outputs": [],
   "source": [
    "def simplify_tweet(t):\n",
    "    '''Simplify tweet to only specified attributes (e.g. id, text, date, user attributes, etc.)'''\n",
    "    new_tweet = {'id':t['id'].split(':')[2],\n",
    "                 'text':t['body'].replace(\"\\n\",\" \").replace(\"\\r\",\" \").replace(\"\\t\",\" \"),\n",
    "                 'created_at':datetime.strptime(t['postedTime'], \"%Y-%m-%dT%H:%M:%S.%fZ\"),\n",
    "                 'user':t['actor']['preferredUsername'].replace(\"\\t\",\" \"),\n",
    "                 'verb':t['verb']\n",
    "                }        \n",
    "    return(new_tweet)"
   ]
  },
  {
   "cell_type": "code",
   "execution_count": 95,
   "metadata": {},
   "outputs": [],
   "source": [
    "def gzip_to_full_tweet(file, event):\n",
    "    tweets          = []\n",
    "    tweet_count     = 0\n",
    "    error_count     = 0\n",
    "    info = None\n",
    "    rt_count = 0\n",
    "    \n",
    "    with gzip.open(file, 'rb') as f:\n",
    "        file_content = f.read()\n",
    "        \n",
    "        for idx, line in enumerate(file_content.decode().split(\"\\n\")):\n",
    "            tweet_count += 1\n",
    "            try:\n",
    "                t = json.loads(line.strip())\n",
    "            except json.JSONDecodeError:\n",
    "                if(line==\"\"):\n",
    "                    pass\n",
    "                \n",
    "            if 'info' in t:\n",
    "                info = t\n",
    "            else:\n",
    "                if t['verb'] != 'share':\n",
    "                    t = simplify_tweet(t)\n",
    "                    if t['created_at'] > START_DATES[event] and t['created_at'] < END_DATES[event]:\n",
    "                        tweets.append(t)\n",
    "                else:\n",
    "                    rt_count+=1\n",
    "\n",
    "            if idx%1000==0:\n",
    "                sys.stderr.write(\"\\r{0} tweets parsed      \".format(tweet_count))\n",
    "#     sys.stderr.write(\"\\r{0} tweets parsed     \".format(tweet_count))\n",
    "    return tweets, info, rt_count"
   ]
  },
  {
   "cell_type": "code",
   "execution_count": 113,
   "metadata": {},
   "outputs": [],
   "source": [
    "def load_jsonl(file):\n",
    "    t_count = 0\n",
    "    rt_count = 0\n",
    "    tweet_array = []\n",
    "\n",
    "    with open(file,'r') as inFile:\n",
    "        for line in inFile:\n",
    "            t = json.loads(line)\n",
    "            if t['verb'] != 'share':\n",
    "                t['created_at'] = datetime.strptime(t['created_at'], \"%Y-%m-%dT%H:%M:%S.%fZ\")\n",
    "                tweet_array.append(t)\n",
    "                t_count += 1\n",
    "                if t_count%10000==0:\n",
    "                    sys.stderr.write(\"\\r\"+\" Loaded {0} tweets, skipped {1} retweets\".format(t_count, rt_count))\n",
    "            else: \n",
    "                rt_count += 1\n",
    "    return tweet_array"
   ]
  },
  {
   "cell_type": "code",
   "execution_count": 114,
   "metadata": {},
   "outputs": [],
   "source": [
    "def get_tweets(event, limit=None):\n",
    "    gnip_files = os.listdir( EVENTS[event] )\n",
    "    print(\"Found {0} GNIP files, limit: {1}\".format(len(gnip_files), limit))\n",
    "    \n",
    "    t_count = 0\n",
    "    rt_count_total = 0\n",
    "    tweet_array = []\n",
    "    for idx, file in enumerate(gnip_files[:limit]):\n",
    "        parts = file.split(\"_\")\n",
    "        file_date = datetime(int(parts[1]), int(parts[2]), int(parts[3]), int(parts[4]), int(parts[5]),0)\n",
    "        if file_date < START_DATES[event] or file_date > END_DATES[event]:\n",
    "            continue\n",
    "        \n",
    "        tweets, info, rt_count = gzip_to_full_tweet(EVENTS[event] +file, event)\n",
    "        t_count += info['info']['activity_count']\n",
    "        tweet_array += tweets\n",
    "        rt_count_total += rt_count\n",
    "        if idx%2==0:\n",
    "            sys.stderr.write(\"\\r\"+\" \"*80 + \"{0} files; {1} tweets\".format(idx+1, t_count))\n",
    "    print(\"{0} files processed with {1} tweets, skipped {2} retweets\".format(idx+1, t_count, rt_count_total))\n",
    "    return tweet_array"
   ]
  },
  {
   "cell_type": "markdown",
   "metadata": {},
   "source": [
    "# Step 1: Load Tweets"
   ]
  },
  {
   "cell_type": "markdown",
   "metadata": {},
   "source": [
    "### Sandy Keyword Tweets"
   ]
  },
  {
   "cell_type": "code",
   "execution_count": 115,
   "metadata": {
    "scrolled": false
   },
   "outputs": [
    {
     "name": "stderr",
     "output_type": "stream",
     "text": [
      " Loaded 4840000 tweets, skipped 4175875 retweets"
     ]
    }
   ],
   "source": [
    "sandy_tweets = load_jsonl(EVENTS['sandy'])"
   ]
  },
  {
   "cell_type": "code",
   "execution_count": null,
   "metadata": {
    "scrolled": false
   },
   "outputs": [
    {
     "name": "stdout",
     "output_type": "stream",
     "text": [
      "Tweets: 4847095\n"
     ]
    },
    {
     "data": {
      "text/html": [
       "<div>\n",
       "<style scoped>\n",
       "    .dataframe tbody tr th:only-of-type {\n",
       "        vertical-align: middle;\n",
       "    }\n",
       "\n",
       "    .dataframe tbody tr th {\n",
       "        vertical-align: top;\n",
       "    }\n",
       "\n",
       "    .dataframe thead th {\n",
       "        text-align: right;\n",
       "    }\n",
       "</style>\n",
       "<table border=\"1\" class=\"dataframe\">\n",
       "  <thead>\n",
       "    <tr style=\"text-align: right;\">\n",
       "      <th></th>\n",
       "      <th>created_at</th>\n",
       "      <th>id</th>\n",
       "      <th>text</th>\n",
       "      <th>user</th>\n",
       "      <th>verb</th>\n",
       "      <th>date</th>\n",
       "    </tr>\n",
       "  </thead>\n",
       "  <tbody>\n",
       "    <tr>\n",
       "      <th>0</th>\n",
       "      <td>2012-10-24 23:58:06</td>\n",
       "      <td>261255274801815552</td>\n",
       "      <td>New 8PM update from the National Hurricane Cen...</td>\n",
       "      <td>MikeMasco</td>\n",
       "      <td>post</td>\n",
       "      <td>2012-10-24</td>\n",
       "    </tr>\n",
       "    <tr>\n",
       "      <th>1</th>\n",
       "      <td>2012-10-24 23:58:07</td>\n",
       "      <td>261255282758402048</td>\n",
       "      <td>Prayers over Jamaica.As Hurricane Sandy approa...</td>\n",
       "      <td>KaiyaNichole</td>\n",
       "      <td>post</td>\n",
       "      <td>2012-10-24</td>\n",
       "    </tr>\n",
       "    <tr>\n",
       "      <th>2</th>\n",
       "      <td>2012-10-24 23:58:07</td>\n",
       "      <td>261255281726603266</td>\n",
       "      <td>That T.S turned into a Hurricane in A Few hour...</td>\n",
       "      <td>DJ_BMONEY</td>\n",
       "      <td>post</td>\n",
       "      <td>2012-10-24</td>\n",
       "    </tr>\n",
       "    <tr>\n",
       "      <th>3</th>\n",
       "      <td>2012-10-24 23:58:09</td>\n",
       "      <td>261255287581843457</td>\n",
       "      <td>All the news of Hurricane Sandy has left Sandy...</td>\n",
       "      <td>littleritzz</td>\n",
       "      <td>post</td>\n",
       "      <td>2012-10-24</td>\n",
       "    </tr>\n",
       "    <tr>\n",
       "      <th>4</th>\n",
       "      <td>2012-10-24 23:58:14</td>\n",
       "      <td>261255312147881985</td>\n",
       "      <td>@mooremayhem  IS A YAAD TING when we get RASS ...</td>\n",
       "      <td>WiggiLeaks</td>\n",
       "      <td>post</td>\n",
       "      <td>2012-10-24</td>\n",
       "    </tr>\n",
       "  </tbody>\n",
       "</table>\n",
       "</div>"
      ],
      "text/plain": [
       "           created_at                  id  \\\n",
       "0 2012-10-24 23:58:06  261255274801815552   \n",
       "1 2012-10-24 23:58:07  261255282758402048   \n",
       "2 2012-10-24 23:58:07  261255281726603266   \n",
       "3 2012-10-24 23:58:09  261255287581843457   \n",
       "4 2012-10-24 23:58:14  261255312147881985   \n",
       "\n",
       "                                                text          user  verb  \\\n",
       "0  New 8PM update from the National Hurricane Cen...     MikeMasco  post   \n",
       "1  Prayers over Jamaica.As Hurricane Sandy approa...  KaiyaNichole  post   \n",
       "2  That T.S turned into a Hurricane in A Few hour...     DJ_BMONEY  post   \n",
       "3  All the news of Hurricane Sandy has left Sandy...   littleritzz  post   \n",
       "4  @mooremayhem  IS A YAAD TING when we get RASS ...    WiggiLeaks  post   \n",
       "\n",
       "         date  \n",
       "0  2012-10-24  \n",
       "1  2012-10-24  \n",
       "2  2012-10-24  \n",
       "3  2012-10-24  \n",
       "4  2012-10-24  "
      ]
     },
     "execution_count": 116,
     "metadata": {},
     "output_type": "execute_result"
    }
   ],
   "source": [
    "SANDY = pd.DataFrame(sandy_tweets)\n",
    "SANDY['date'] = SANDY.created_at.apply(lambda x: x.date())\n",
    "print(\"Tweets: {0}\".format(len(SANDY)))\n",
    "SANDY.head()"
   ]
  },
  {
   "cell_type": "markdown",
   "metadata": {},
   "source": [
    "### Harvey Keyword Tweets"
   ]
  },
  {
   "cell_type": "code",
   "execution_count": null,
   "metadata": {},
   "outputs": [
    {
     "name": "stdout",
     "output_type": "stream",
     "text": [
      "Found 3456 GNIP files, limit: None\n"
     ]
    },
    {
     "name": "stderr",
     "output_type": "stream",
     "text": [
      "3001 tweets parsed                                                              1905 files; 3149587 tweets"
     ]
    }
   ],
   "source": [
    "harvey_tweets = get_tweets('harvey_kw')"
   ]
  },
  {
   "cell_type": "code",
   "execution_count": null,
   "metadata": {},
   "outputs": [],
   "source": [
    "HARVEY = pd.DataFrame(harvey_tweets)\n",
    "HARVEY['date'] = HARVEY.created_at.apply(lambda x: x.date())\n",
    "print(\"Tweets: {0}\".format(len(HARVEY)))\n",
    "HARVEY.head()"
   ]
  },
  {
   "cell_type": "markdown",
   "metadata": {},
   "source": [
    "# Some DataFrame Analysis"
   ]
  },
  {
   "cell_type": "code",
   "execution_count": null,
   "metadata": {},
   "outputs": [],
   "source": [
    "SANDY_WORDS  = ['flooded','sandy','evacuate','electricity','shelter','destroy','generators','light','power','emergency ','candles','flashlights','decisions','disaster','forecast','wind','repair','scary','heat','school ','worried ','response','hospital','rising','substations','government','meetings','population','resources','mayor','receding','relatives','supplies','leaders','looting','transportation','waves','fires','rain','abandoned','devastated','drowned','ocean','raised','rescue','safe','stuck','suffering','survivied','afraid','bridge','designated','impact','neighborhood','rebuild','scared','telephone','twitter','dangerous','federal','firefighters','floated','grid','risk','scientist','terrible','tornado','trouble','administration','announce','authorities','bags','bathtubs','batteries','dumping','fuel','pouring','residents','roof','ambulences','canal','coastal','death','died','donate','garbage','governer','infrastructure','facebook','media','paper','television','computer','cell','internet']\n",
    "HARVEY_WORDS = ['water','helps','community','storm','call','prepared','hurricane','rains','stay','phone','talking','evacuate','homes','news','leave','rescue','tornado','boat','family','church','neighbor','media','fema','bayou','warnings','facebook','weather','emergency','lights','radio','plans','money','power','channel','wind','damage','forecast','decision','shelter','devastation','alerts','gulf','police','rita','cell','lake','seniors','rising','stuck','drain','electricity','drainage','governments','safe','decide','higher','officials','afraid','danger','katrina','mayor','rainfall','surge','trapped','deep','disabled','leaders','strong','bayous','blessed','hospital','praying','frustrating','mexican','risk','river','univision','generator','safety','tide','agency','disaster','faith','mandatory','medicine','reservoirs','hotel','levies','pets','stranded','underwater']"
   ]
  },
  {
   "cell_type": "code",
   "execution_count": null,
   "metadata": {},
   "outputs": [],
   "source": [
    "SANDY['keywords']  = SANDY.text.apply(lambda text: pd.Series([x in text.lower() for x in SANDY_WORDS]).any())\n",
    "HARVEY['keywords'] = HARVEY.text.apply(lambda text: pd.Series([x in text.lower() for x in HARVEY_WORDS]).any())"
   ]
  },
  {
   "cell_type": "code",
   "execution_count": null,
   "metadata": {},
   "outputs": [],
   "source": [
    "SANDY.head()"
   ]
  },
  {
   "cell_type": "code",
   "execution_count": null,
   "metadata": {},
   "outputs": [],
   "source": [
    "HARVEY.head()"
   ]
  },
  {
   "cell_type": "markdown",
   "metadata": {},
   "source": [
    "### Secondary Search Words"
   ]
  },
  {
   "cell_type": "code",
   "execution_count": 275,
   "metadata": {},
   "outputs": [],
   "source": [
    "SOCIAL_NETWORKS = ['help','mother','father','brother','sister','grandmother','grandfather','neighbor ','friend','community','church','school ','pastor','principal','kids','cousin','neice ','nephew','son ','daughter','aunt','uncle','teacher','neighborhood','children','manager','stuck','aid','assist','grandma','grandpa','family']\n",
    "FORECAST_INFO   = ['flood','rain','surge','wind','water','cone','dirty side','clean side','uncertainty','intensify','landfall','category','forecast','pressure','hurricane','trajectory','tropical','disturbance','depression','tv','radio','internet','paper']\n",
    "PROTECTIVE_DECISIONS = ['stay','leave','shelter','ride','evacuate','roof','higher','attic','get out','rob','theives','pet','dog','cat','motel','hotel','traffic','highway','road','vacancy','go','shutters','elevator','power','electricity','order','mayor','car','subway','bus','basement','last time','shelter']\n",
    "MATERIAL_NEEDS = ['volunteer','cajun navy','boat','help','phone','cell','rescue','supplies ','canoe','kayak','food','meals','cooking','cash','money','generator','milk','bread','eggs','store','doctor','medicine','gas']\n",
    "BEAUROCRATIC_ASSISTANCE = ['papers','fema','red cross','city','Super neighborhood','county','emergency manager','police','fire']"
   ]
  },
  {
   "cell_type": "code",
   "execution_count": 276,
   "metadata": {},
   "outputs": [],
   "source": [
    "def second_level_search(df):\n",
    "    df['SOCIAL_NETWORKS'] = df.text.apply(lambda text: pd.Series([x in text.lower() for x in SOCIAL_NETWORKS]).any())\n",
    "    df['FORECAST_INFO'] = df.text.apply(lambda text: pd.Series([x in text.lower() for x in FORECAST_INFO]).any())\n",
    "    df['PROTECTIVE_DECISIONS'] = df.text.apply(lambda text: pd.Series([x in text.lower() for x in PROTECTIVE_DECISIONS]).any())\n",
    "    df['MATERIAL_NEEDS'] = df.text.apply(lambda text: pd.Series([x in text.lower() for x in MATERIAL_NEEDS]).any())\n",
    "    df['BEAUROCRATIC_ASSISTANCE'] = df.text.apply(lambda text: pd.Series([x in text.lower() for x in BEAUROCRATIC_ASSISTANCE]).any())    "
   ]
  },
  {
   "cell_type": "code",
   "execution_count": 277,
   "metadata": {},
   "outputs": [],
   "source": [
    "second_level_search(SANDY)\n",
    "second_level_search(HARVEY)"
   ]
  },
  {
   "cell_type": "code",
   "execution_count": 278,
   "metadata": {},
   "outputs": [
    {
     "name": "stdout",
     "output_type": "stream",
     "text": [
      "4847095\n"
     ]
    },
    {
     "data": {
      "text/html": [
       "<div>\n",
       "<style scoped>\n",
       "    .dataframe tbody tr th:only-of-type {\n",
       "        vertical-align: middle;\n",
       "    }\n",
       "\n",
       "    .dataframe tbody tr th {\n",
       "        vertical-align: top;\n",
       "    }\n",
       "\n",
       "    .dataframe thead th {\n",
       "        text-align: right;\n",
       "    }\n",
       "</style>\n",
       "<table border=\"1\" class=\"dataframe\">\n",
       "  <thead>\n",
       "    <tr style=\"text-align: right;\">\n",
       "      <th></th>\n",
       "      <th>created_at</th>\n",
       "      <th>id</th>\n",
       "      <th>text</th>\n",
       "      <th>user</th>\n",
       "      <th>verb</th>\n",
       "      <th>date</th>\n",
       "      <th>keywords</th>\n",
       "      <th>SOCIAL_NETWORKS</th>\n",
       "      <th>FORECAST_INFO</th>\n",
       "      <th>PROTECTIVE_DECISIONS</th>\n",
       "      <th>MATERIAL_NEEDS</th>\n",
       "      <th>BEAUROCRATIC_ASSISTANCE</th>\n",
       "    </tr>\n",
       "  </thead>\n",
       "  <tbody>\n",
       "    <tr>\n",
       "      <th>0</th>\n",
       "      <td>2012-10-24 23:58:06</td>\n",
       "      <td>261255274801815552</td>\n",
       "      <td>New 8PM update from the National Hurricane Cen...</td>\n",
       "      <td>MikeMasco</td>\n",
       "      <td>post</td>\n",
       "      <td>2012-10-24</td>\n",
       "      <td>True</td>\n",
       "      <td>False</td>\n",
       "      <td>True</td>\n",
       "      <td>True</td>\n",
       "      <td>False</td>\n",
       "      <td>False</td>\n",
       "    </tr>\n",
       "    <tr>\n",
       "      <th>1</th>\n",
       "      <td>2012-10-24 23:58:07</td>\n",
       "      <td>261255282758402048</td>\n",
       "      <td>Prayers over Jamaica.As Hurricane Sandy approa...</td>\n",
       "      <td>KaiyaNichole</td>\n",
       "      <td>post</td>\n",
       "      <td>2012-10-24</td>\n",
       "      <td>True</td>\n",
       "      <td>True</td>\n",
       "      <td>True</td>\n",
       "      <td>False</td>\n",
       "      <td>False</td>\n",
       "      <td>False</td>\n",
       "    </tr>\n",
       "    <tr>\n",
       "      <th>2</th>\n",
       "      <td>2012-10-24 23:58:07</td>\n",
       "      <td>261255281726603266</td>\n",
       "      <td>That T.S turned into a Hurricane in A Few hour...</td>\n",
       "      <td>DJ_BMONEY</td>\n",
       "      <td>post</td>\n",
       "      <td>2012-10-24</td>\n",
       "      <td>False</td>\n",
       "      <td>False</td>\n",
       "      <td>True</td>\n",
       "      <td>False</td>\n",
       "      <td>False</td>\n",
       "      <td>False</td>\n",
       "    </tr>\n",
       "    <tr>\n",
       "      <th>3</th>\n",
       "      <td>2012-10-24 23:58:09</td>\n",
       "      <td>261255287581843457</td>\n",
       "      <td>All the news of Hurricane Sandy has left Sandy...</td>\n",
       "      <td>littleritzz</td>\n",
       "      <td>post</td>\n",
       "      <td>2012-10-24</td>\n",
       "      <td>True</td>\n",
       "      <td>True</td>\n",
       "      <td>True</td>\n",
       "      <td>False</td>\n",
       "      <td>False</td>\n",
       "      <td>False</td>\n",
       "    </tr>\n",
       "    <tr>\n",
       "      <th>4</th>\n",
       "      <td>2012-10-24 23:58:14</td>\n",
       "      <td>261255312147881985</td>\n",
       "      <td>@mooremayhem  IS A YAAD TING when we get RASS ...</td>\n",
       "      <td>WiggiLeaks</td>\n",
       "      <td>post</td>\n",
       "      <td>2012-10-24</td>\n",
       "      <td>True</td>\n",
       "      <td>True</td>\n",
       "      <td>True</td>\n",
       "      <td>True</td>\n",
       "      <td>False</td>\n",
       "      <td>False</td>\n",
       "    </tr>\n",
       "  </tbody>\n",
       "</table>\n",
       "</div>"
      ],
      "text/plain": [
       "           created_at                  id  \\\n",
       "0 2012-10-24 23:58:06  261255274801815552   \n",
       "1 2012-10-24 23:58:07  261255282758402048   \n",
       "2 2012-10-24 23:58:07  261255281726603266   \n",
       "3 2012-10-24 23:58:09  261255287581843457   \n",
       "4 2012-10-24 23:58:14  261255312147881985   \n",
       "\n",
       "                                                text          user  verb  \\\n",
       "0  New 8PM update from the National Hurricane Cen...     MikeMasco  post   \n",
       "1  Prayers over Jamaica.As Hurricane Sandy approa...  KaiyaNichole  post   \n",
       "2  That T.S turned into a Hurricane in A Few hour...     DJ_BMONEY  post   \n",
       "3  All the news of Hurricane Sandy has left Sandy...   littleritzz  post   \n",
       "4  @mooremayhem  IS A YAAD TING when we get RASS ...    WiggiLeaks  post   \n",
       "\n",
       "         date  keywords  SOCIAL_NETWORKS  FORECAST_INFO  PROTECTIVE_DECISIONS  \\\n",
       "0  2012-10-24      True            False           True                  True   \n",
       "1  2012-10-24      True             True           True                 False   \n",
       "2  2012-10-24     False            False           True                 False   \n",
       "3  2012-10-24      True             True           True                 False   \n",
       "4  2012-10-24      True             True           True                  True   \n",
       "\n",
       "   MATERIAL_NEEDS  BEAUROCRATIC_ASSISTANCE  \n",
       "0           False                    False  \n",
       "1           False                    False  \n",
       "2           False                    False  \n",
       "3           False                    False  \n",
       "4           False                    False  "
      ]
     },
     "execution_count": 278,
     "metadata": {},
     "output_type": "execute_result"
    }
   ],
   "source": [
    "print(len(SANDY))\n",
    "SANDY.head()"
   ]
  },
  {
   "cell_type": "code",
   "execution_count": 279,
   "metadata": {},
   "outputs": [
    {
     "name": "stdout",
     "output_type": "stream",
     "text": [
      "1416755\n"
     ]
    },
    {
     "data": {
      "text/html": [
       "<div>\n",
       "<style scoped>\n",
       "    .dataframe tbody tr th:only-of-type {\n",
       "        vertical-align: middle;\n",
       "    }\n",
       "\n",
       "    .dataframe tbody tr th {\n",
       "        vertical-align: top;\n",
       "    }\n",
       "\n",
       "    .dataframe thead th {\n",
       "        text-align: right;\n",
       "    }\n",
       "</style>\n",
       "<table border=\"1\" class=\"dataframe\">\n",
       "  <thead>\n",
       "    <tr style=\"text-align: right;\">\n",
       "      <th></th>\n",
       "      <th>created_at</th>\n",
       "      <th>id</th>\n",
       "      <th>text</th>\n",
       "      <th>user</th>\n",
       "      <th>verb</th>\n",
       "      <th>date</th>\n",
       "      <th>keywords</th>\n",
       "      <th>SOCIAL_NETWORKS</th>\n",
       "      <th>FORECAST_INFO</th>\n",
       "      <th>PROTECTIVE_DECISIONS</th>\n",
       "      <th>MATERIAL_NEEDS</th>\n",
       "      <th>BEAUROCRATIC_ASSISTANCE</th>\n",
       "    </tr>\n",
       "  </thead>\n",
       "  <tbody>\n",
       "    <tr>\n",
       "      <th>0</th>\n",
       "      <td>2017-08-23 18:00:00</td>\n",
       "      <td>900417352453373953</td>\n",
       "      <td>Sarah Harvey talks about Harvey Lawrence – whe...</td>\n",
       "      <td>harveylawrence</td>\n",
       "      <td>post</td>\n",
       "      <td>2017-08-23</td>\n",
       "      <td>False</td>\n",
       "      <td>False</td>\n",
       "      <td>False</td>\n",
       "      <td>True</td>\n",
       "      <td>False</td>\n",
       "      <td>False</td>\n",
       "    </tr>\n",
       "    <tr>\n",
       "      <th>1</th>\n",
       "      <td>2017-08-23 18:00:04</td>\n",
       "      <td>900417371080347650</td>\n",
       "      <td>If you live along the Gulf Coast, stay safe an...</td>\n",
       "      <td>gacarol18</td>\n",
       "      <td>post</td>\n",
       "      <td>2017-08-23</td>\n",
       "      <td>True</td>\n",
       "      <td>False</td>\n",
       "      <td>False</td>\n",
       "      <td>True</td>\n",
       "      <td>False</td>\n",
       "      <td>False</td>\n",
       "    </tr>\n",
       "    <tr>\n",
       "      <th>2</th>\n",
       "      <td>2017-08-23 18:00:14</td>\n",
       "      <td>900417412117536768</td>\n",
       "      <td>New post (Harvey Could Become First Hurricane ...</td>\n",
       "      <td>kilocals</td>\n",
       "      <td>post</td>\n",
       "      <td>2017-08-23</td>\n",
       "      <td>True</td>\n",
       "      <td>False</td>\n",
       "      <td>True</td>\n",
       "      <td>False</td>\n",
       "      <td>False</td>\n",
       "      <td>False</td>\n",
       "    </tr>\n",
       "    <tr>\n",
       "      <th>3</th>\n",
       "      <td>2017-08-23 18:00:15</td>\n",
       "      <td>900417416911626240</td>\n",
       "      <td>Nike Mens Sportswear Pull Over Club Hooded Swe...</td>\n",
       "      <td>USA_OnlineDeals</td>\n",
       "      <td>post</td>\n",
       "      <td>2017-08-23</td>\n",
       "      <td>False</td>\n",
       "      <td>False</td>\n",
       "      <td>False</td>\n",
       "      <td>False</td>\n",
       "      <td>False</td>\n",
       "      <td>False</td>\n",
       "    </tr>\n",
       "    <tr>\n",
       "      <th>4</th>\n",
       "      <td>2017-08-23 18:00:59</td>\n",
       "      <td>900417598722121728</td>\n",
       "      <td>I'm pretty sure the mall will stay open during...</td>\n",
       "      <td>charityemmite</td>\n",
       "      <td>post</td>\n",
       "      <td>2017-08-23</td>\n",
       "      <td>True</td>\n",
       "      <td>False</td>\n",
       "      <td>True</td>\n",
       "      <td>True</td>\n",
       "      <td>True</td>\n",
       "      <td>False</td>\n",
       "    </tr>\n",
       "  </tbody>\n",
       "</table>\n",
       "</div>"
      ],
      "text/plain": [
       "           created_at                  id  \\\n",
       "0 2017-08-23 18:00:00  900417352453373953   \n",
       "1 2017-08-23 18:00:04  900417371080347650   \n",
       "2 2017-08-23 18:00:14  900417412117536768   \n",
       "3 2017-08-23 18:00:15  900417416911626240   \n",
       "4 2017-08-23 18:00:59  900417598722121728   \n",
       "\n",
       "                                                text             user  verb  \\\n",
       "0  Sarah Harvey talks about Harvey Lawrence – whe...   harveylawrence  post   \n",
       "1  If you live along the Gulf Coast, stay safe an...        gacarol18  post   \n",
       "2  New post (Harvey Could Become First Hurricane ...         kilocals  post   \n",
       "3  Nike Mens Sportswear Pull Over Club Hooded Swe...  USA_OnlineDeals  post   \n",
       "4  I'm pretty sure the mall will stay open during...    charityemmite  post   \n",
       "\n",
       "         date  keywords  SOCIAL_NETWORKS  FORECAST_INFO  PROTECTIVE_DECISIONS  \\\n",
       "0  2017-08-23     False            False          False                  True   \n",
       "1  2017-08-23      True            False          False                  True   \n",
       "2  2017-08-23      True            False           True                 False   \n",
       "3  2017-08-23     False            False          False                 False   \n",
       "4  2017-08-23      True            False           True                  True   \n",
       "\n",
       "   MATERIAL_NEEDS  BEAUROCRATIC_ASSISTANCE  \n",
       "0           False                    False  \n",
       "1           False                    False  \n",
       "2           False                    False  \n",
       "3           False                    False  \n",
       "4            True                    False  "
      ]
     },
     "execution_count": 279,
     "metadata": {},
     "output_type": "execute_result"
    }
   ],
   "source": [
    "print(len(HARVEY))\n",
    "HARVEY.head()"
   ]
  },
  {
   "cell_type": "markdown",
   "metadata": {},
   "source": [
    "<hr>\n",
    "<br>\n",
    "# 2. Group the dataframes by user \n",
    "Get counts for tweets within the second level filtering to identify users of most interest? "
   ]
  },
  {
   "cell_type": "code",
   "execution_count": 280,
   "metadata": {},
   "outputs": [],
   "source": [
    "HARVEY_gb_user = HARVEY.groupby('user')"
   ]
  },
  {
   "cell_type": "code",
   "execution_count": 281,
   "metadata": {},
   "outputs": [],
   "source": [
    "SANDY_gb_user = SANDY.groupby('user')"
   ]
  },
  {
   "cell_type": "code",
   "execution_count": 282,
   "metadata": {},
   "outputs": [],
   "source": [
    "def find_interesting_users(DF_gb_user, threshold=10):\n",
    "    USERS_SN = []\n",
    "    USERS_FI = []\n",
    "    USERS_PD = []\n",
    "    USERS_MN = []\n",
    "    USERS_BA = []\n",
    "    \n",
    "    count = 0;\n",
    "\n",
    "    for user, tweets in DF_gb_user:\n",
    "    #     if tweets.keywords.any():\n",
    "        if tweets.SOCIAL_NETWORKS.sum() > threshold:\n",
    "            USERS_SN.append( (user, tweets.SOCIAL_NETWORKS.sum() ) )\n",
    "        \n",
    "        if tweets.FORECAST_INFO.sum() > threshold:\n",
    "            USERS_FI.append( (user, tweets.FORECAST_INFO.sum() ) )\n",
    "        \n",
    "        if tweets.PROTECTIVE_DECISIONS.sum() > threshold:\n",
    "            USERS_PD.append( (user, tweets.PROTECTIVE_DECISIONS.sum() ) )\n",
    "        \n",
    "        if tweets.MATERIAL_NEEDS.sum() > threshold:\n",
    "            USERS_MN.append( (user, tweets.MATERIAL_NEEDS.sum() ) )\n",
    "        \n",
    "        if tweets.BEAUROCRATIC_ASSISTANCE.sum() > threshold:\n",
    "            USERS_BA.append( (user, tweets.BEAUROCRATIC_ASSISTANCE.sum() ) )\n",
    "\n",
    "        count+=1\n",
    "        if count%100==0:\n",
    "            sys.stderr.write(\"\\r\"+\" Processed {0} users\".format(count))\n",
    "\n",
    "    return {\n",
    "        'social_networks' : USERS_SN,\n",
    "        'forecast_info' : USERS_FI,\n",
    "        'protective_decisions' : USERS_PD,\n",
    "        'material_needs' : USERS_MN,\n",
    "        'beaurocratic_assistance' : USERS_BA\n",
    "    }"
   ]
  },
  {
   "cell_type": "code",
   "execution_count": 283,
   "metadata": {},
   "outputs": [
    {
     "name": "stderr",
     "output_type": "stream",
     "text": [
      " Processed 612800 users"
     ]
    }
   ],
   "source": [
    "harvey_users = find_interesting_users(HARVEY_gb_user)"
   ]
  },
  {
   "cell_type": "code",
   "execution_count": 284,
   "metadata": {},
   "outputs": [
    {
     "name": "stderr",
     "output_type": "stream",
     "text": [
      " Processed 2391200 users"
     ]
    }
   ],
   "source": [
    "sandy_users = find_interesting_users(SANDY_gb_user)"
   ]
  },
  {
   "cell_type": "code",
   "execution_count": 286,
   "metadata": {},
   "outputs": [
    {
     "data": {
      "text/plain": [
       "array([<matplotlib.axes._subplots.AxesSubplot object at 0x7f546b48cf98>],\n",
       "      dtype=object)"
      ]
     },
     "execution_count": 286,
     "metadata": {},
     "output_type": "execute_result"
    },
    {
     "data": {
      "image/png": "[encoded data removed]",
      "text/plain": [
       "<matplotlib.figure.Figure at 0x7f542f6ec438>"
      ]
     },
     "metadata": {},
     "output_type": "display_data"
    }
   ],
   "source": [
    "bins = np.arange(10,150,10)\n",
    "figure, axes = plt.subplots(3, 2)\n",
    "plt.tight_layout()\n",
    "figure.set_figheight(15); figure.set_figwidth(10); plt.suptitle(\"Hurricane Sandy\", fontsize=24)\n",
    "axes[0,0].set_ylabel(\"User Count\"); axes[0,0].set_xlabel(\"Matching Tweets\"); axes[0,1].set_xlabel(\"Matching Tweets\")\n",
    "axes[1,0].set_ylabel(\"User Count\"); axes[1,0].set_xlabel(\"Matching Tweets\"); axes[1,1].set_xlabel(\"Matching Tweets\")\n",
    "axes[2,0].set_ylabel(\"User Count\"); axes[2,0].set_xlabel(\"Matching Tweets\");\n",
    "pd.DataFrame({'Social Networks' : [x[1] for x in sandy_users['social_networks']]}).hist(ax=axes[0,0], bins=bins)\n",
    "pd.DataFrame({'Forecast Info' : [x[1] for x in sandy_users['forecast_info']]}).hist(ax=axes[0,1], bins=bins)\n",
    "pd.DataFrame({'Protective Decisions' : [x[1] for x in sandy_users['protective_decisions']]}).hist(ax=axes[1,0], bins=bins)\n",
    "pd.DataFrame({'Material Needs' : [x[1] for x in sandy_users['material_needs']]}).hist(ax=axes[1,1], bins=bins)\n",
    "pd.DataFrame({'Beaurocratic Assistance' : [x[1] for x in sandy_users['beaurocratic_assistance']]}).hist(ax=axes[2,0], bins=bins)"
   ]
  },
  {
   "cell_type": "code",
   "execution_count": 298,
   "metadata": {},
   "outputs": [
    {
     "data": {
      "text/plain": [
       "array([<matplotlib.axes._subplots.AxesSubplot object at 0x7f542a692668>],\n",
       "      dtype=object)"
      ]
     },
     "execution_count": 298,
     "metadata": {},
     "output_type": "execute_result"
    },
    {
     "data": {
      "image/png": "[encoded data removed]",
      "text/plain": [
       "<matplotlib.figure.Figure at 0x7f542a73b160>"
      ]
     },
     "metadata": {},
     "output_type": "display_data"
    }
   ],
   "source": [
    "bins = np.arange(10,150,10)\n",
    "figure, axes = plt.subplots(3, 2)\n",
    "plt.tight_layout()\n",
    "figure.set_figheight(15); figure.set_figwidth(10); plt.suptitle(\"Hurricane Harvey\", fontsize=24)\n",
    "axes[0,0].set_ylabel(\"User Count\"); axes[0,0].set_xlabel(\"Matching Tweets\"); axes[0,1].set_xlabel(\"Matching Tweets\")\n",
    "axes[1,0].set_ylabel(\"User Count\"); axes[1,0].set_xlabel(\"Matching Tweets\"); axes[1,1].set_xlabel(\"Matching Tweets\")\n",
    "axes[2,0].set_ylabel(\"User Count\"); axes[2,0].set_xlabel(\"Matching Tweets\");\n",
    "pd.DataFrame({'Social Networks' : [x[1] for x in harvey_users['social_networks']]}).hist(ax=axes[0,0], bins=bins)\n",
    "pd.DataFrame({'Forecast Info' : [x[1] for x in harvey_users['forecast_info']]}).hist(ax=axes[0,1], bins=bins)\n",
    "pd.DataFrame({'Protective Decisions' : [x[1] for x in harvey_users['protective_decisions']]}).hist(ax=axes[1,0], bins=bins)\n",
    "pd.DataFrame({'Material Needs' : [x[1] for x in harvey_users['material_needs']]}).hist(ax=axes[1,1], bins=bins)\n",
    "pd.DataFrame({'Beaurocratic Assistance' : [x[1] for x in harvey_users['beaurocratic_assistance']]}).hist(ax=axes[2,0], bins=bins)\n"
   ]
  },
  {
   "cell_type": "code",
   "execution_count": 289,
   "metadata": {},
   "outputs": [],
   "source": [
    "def get_dataset_for_output(dataset, collection, gb_user, event):\n",
    "    threshold2 = 20;\n",
    "    print(\"User, matching tweets, total tweets, link to tweets\")\n",
    "    if not os.path.exists(\"/data/chime/FocusGroupKeywords/{0}/{1}\".format(event,collection)):\n",
    "        os.mkdir(\"/data/chime/FocusGroupKeywords/{0}/{1}\".format(event,collection))\n",
    "    for user,count in sorted( dataset[collection], key=lambda x: -x[1]):\n",
    "        if count > threshold2:\n",
    "            tweets = gb_user.get_group(user)\n",
    "            tweets.sort_values(by='created_at').to_csv(\"/data/chime/FocusGroupKeywords/{0}/{1}/{2}.csv\".format(event,collection,user))\n",
    "            print(\"{0},{1},{2},{3}\".format(user, count, len(tweets),\"https://s3.amazonaws.com/chime-project/FocusGroupKeywords/{0}/{1}/{2}.csv\".format(event,collection,user)))"
   ]
  },
  {
   "cell_type": "markdown",
   "metadata": {},
   "source": [
    "1. First, copy the following output into Google Sheets\n",
    "\n",
    "2. Copy to S3 with the following command from the `/data/chime` directory\n",
    "\n",
    "    `aws --profile=epic s3 cp --recursive --acl=public-read FocusGroupKeywords s3://chime-project/FocusGroupKeywords`"
   ]
  },
  {
   "cell_type": "code",
   "execution_count": 295,
   "metadata": {},
   "outputs": [
    {
     "name": "stdout",
     "output_type": "stream",
     "text": [
      "social_networks\n",
      "forecast_info\n",
      "protective_decisions\n",
      "material_needs\n",
      "beaurocratic_assistance\n"
     ]
    }
   ],
   "source": [
    "[print(x) for x in list(harvey_users.keys())]; None"
   ]
  },
  {
   "cell_type": "code",
   "execution_count": 306,
   "metadata": {
    "scrolled": false
   },
   "outputs": [
    {
     "name": "stdout",
     "output_type": "stream",
     "text": [
      "User, matching tweets, total tweets, link to tweets\n",
      "NewsJerseyCity,347,347,https://s3.amazonaws.com/chime-project/FocusGroupKeywords/Sandy/beaurocratic_assistance/NewsJerseyCity.csv\n",
      "NewsNewarkNJ,133,594,https://s3.amazonaws.com/chime-project/FocusGroupKeywords/Sandy/beaurocratic_assistance/NewsNewarkNJ.csv\n",
      "ThatGirlLottie,123,132,https://s3.amazonaws.com/chime-project/FocusGroupKeywords/Sandy/beaurocratic_assistance/ThatGirlLottie.csv\n",
      "rightnowio_feed,98,412,https://s3.amazonaws.com/chime-project/FocusGroupKeywords/Sandy/beaurocratic_assistance/rightnowio_feed.csv\n",
      "BShieldsWFTV,87,111,https://s3.amazonaws.com/chime-project/FocusGroupKeywords/Sandy/beaurocratic_assistance/BShieldsWFTV.csv\n",
      "Tracythomp,80,81,https://s3.amazonaws.com/chime-project/FocusGroupKeywords/Sandy/beaurocratic_assistance/Tracythomp.csv\n",
      "NBCPhiladelphia,73,436,https://s3.amazonaws.com/chime-project/FocusGroupKeywords/Sandy/beaurocratic_assistance/NBCPhiladelphia.csv\n",
      "WFTVWeather,72,93,https://s3.amazonaws.com/chime-project/FocusGroupKeywords/Sandy/beaurocratic_assistance/WFTVWeather.csv\n",
      "nycarecs,71,236,https://s3.amazonaws.com/chime-project/FocusGroupKeywords/Sandy/beaurocratic_assistance/nycarecs.csv\n",
      "editchick,69,158,https://s3.amazonaws.com/chime-project/FocusGroupKeywords/Sandy/beaurocratic_assistance/editchick.csv\n",
      "KansasCty_News,65,66,https://s3.amazonaws.com/chime-project/FocusGroupKeywords/Sandy/beaurocratic_assistance/KansasCty_News.csv\n",
      "Politicolnews,52,92,https://s3.amazonaws.com/chime-project/FocusGroupKeywords/Sandy/beaurocratic_assistance/Politicolnews.csv\n",
      "HumanityRoad,49,278,https://s3.amazonaws.com/chime-project/FocusGroupKeywords/Sandy/beaurocratic_assistance/HumanityRoad.csv\n",
      "DMVGovernment,47,77,https://s3.amazonaws.com/chime-project/FocusGroupKeywords/Sandy/beaurocratic_assistance/DMVGovernment.csv\n",
      "Bronx_NY_News,45,288,https://s3.amazonaws.com/chime-project/FocusGroupKeywords/Sandy/beaurocratic_assistance/Bronx_NY_News.csv\n",
      "truck_nekkid,45,395,https://s3.amazonaws.com/chime-project/FocusGroupKeywords/Sandy/beaurocratic_assistance/truck_nekkid.csv\n",
      "LinkersNYC,44,127,https://s3.amazonaws.com/chime-project/FocusGroupKeywords/Sandy/beaurocratic_assistance/LinkersNYC.csv\n",
      "HC_Sandy,43,330,https://s3.amazonaws.com/chime-project/FocusGroupKeywords/Sandy/beaurocratic_assistance/HC_Sandy.csv\n",
      "PrintMyLogo,41,41,https://s3.amazonaws.com/chime-project/FocusGroupKeywords/Sandy/beaurocratic_assistance/PrintMyLogo.csv\n",
      "emergencyprep3,37,561,https://s3.amazonaws.com/chime-project/FocusGroupKeywords/Sandy/beaurocratic_assistance/emergencyprep3.csv\n",
      "newyorknewstwit,37,46,https://s3.amazonaws.com/chime-project/FocusGroupKeywords/Sandy/beaurocratic_assistance/newyorknewstwit.csv\n",
      "SergioRamosWeb,36,39,https://s3.amazonaws.com/chime-project/FocusGroupKeywords/Sandy/beaurocratic_assistance/SergioRamosWeb.csv\n",
      "911_wire,35,92,https://s3.amazonaws.com/chime-project/FocusGroupKeywords/Sandy/beaurocratic_assistance/911_wire.csv\n",
      "HudsonCtyNews,35,84,https://s3.amazonaws.com/chime-project/FocusGroupKeywords/Sandy/beaurocratic_assistance/HudsonCtyNews.csv\n",
      "capewx,35,184,https://s3.amazonaws.com/chime-project/FocusGroupKeywords/Sandy/beaurocratic_assistance/capewx.csv\n",
      "new_jersey,35,107,https://s3.amazonaws.com/chime-project/FocusGroupKeywords/Sandy/beaurocratic_assistance/new_jersey.csv\n",
      "oceancitynewser,35,35,https://s3.amazonaws.com/chime-project/FocusGroupKeywords/Sandy/beaurocratic_assistance/oceancitynewser.csv\n",
      "BigMedicine,34,80,https://s3.amazonaws.com/chime-project/FocusGroupKeywords/Sandy/beaurocratic_assistance/BigMedicine.csv\n",
      "LyndaCohen,34,80,https://s3.amazonaws.com/chime-project/FocusGroupKeywords/Sandy/beaurocratic_assistance/LyndaCohen.csv\n",
      "AvaWBAL,33,49,https://s3.amazonaws.com/chime-project/FocusGroupKeywords/Sandy/beaurocratic_assistance/AvaWBAL.csv\n",
      "JayDensonNYC,33,72,https://s3.amazonaws.com/chime-project/FocusGroupKeywords/Sandy/beaurocratic_assistance/JayDensonNYC.csv\n",
      "NewsBaltimoreMD,33,161,https://s3.amazonaws.com/chime-project/FocusGroupKeywords/Sandy/beaurocratic_assistance/NewsBaltimoreMD.csv\n",
      "TEKJournalismUK,33,40,https://s3.amazonaws.com/chime-project/FocusGroupKeywords/Sandy/beaurocratic_assistance/TEKJournalismUK.csv\n",
      "GormoJourno,32,275,https://s3.amazonaws.com/chime-project/FocusGroupKeywords/Sandy/beaurocratic_assistance/GormoJourno.csv\n",
      "NYGovCuomo,32,400,https://s3.amazonaws.com/chime-project/FocusGroupKeywords/Sandy/beaurocratic_assistance/NYGovCuomo.csv\n",
      "allnewyorknews,32,66,https://s3.amazonaws.com/chime-project/FocusGroupKeywords/Sandy/beaurocratic_assistance/allnewyorknews.csv\n",
      "stormchaser4850,32,248,https://s3.amazonaws.com/chime-project/FocusGroupKeywords/Sandy/beaurocratic_assistance/stormchaser4850.csv\n",
      "twc_hurricane,32,289,https://s3.amazonaws.com/chime-project/FocusGroupKeywords/Sandy/beaurocratic_assistance/twc_hurricane.csv\n",
      "AndreaMcCarren,31,98,https://s3.amazonaws.com/chime-project/FocusGroupKeywords/Sandy/beaurocratic_assistance/AndreaMcCarren.csv\n",
      "Here_ISound_Off,31,135,https://s3.amazonaws.com/chime-project/FocusGroupKeywords/Sandy/beaurocratic_assistance/Here_ISound_Off.csv\n",
      "NENAFL,31,36,https://s3.amazonaws.com/chime-project/FocusGroupKeywords/Sandy/beaurocratic_assistance/NENAFL.csv\n",
      "VninHiarbi,31,107,https://s3.amazonaws.com/chime-project/FocusGroupKeywords/Sandy/beaurocratic_assistance/VninHiarbi.csv\n",
      "greeneredcross,31,35,https://s3.amazonaws.com/chime-project/FocusGroupKeywords/Sandy/beaurocratic_assistance/greeneredcross.csv\n",
      "nydailynews,31,219,https://s3.amazonaws.com/chime-project/FocusGroupKeywords/Sandy/beaurocratic_assistance/nydailynews.csv\n",
      "BeanSunny,29,43,https://s3.amazonaws.com/chime-project/FocusGroupKeywords/Sandy/beaurocratic_assistance/BeanSunny.csv\n",
      "Maliheh_,29,29,https://s3.amazonaws.com/chime-project/FocusGroupKeywords/Sandy/beaurocratic_assistance/Maliheh_.csv\n",
      "Org9,29,210,https://s3.amazonaws.com/chime-project/FocusGroupKeywords/Sandy/beaurocratic_assistance/Org9.csv\n",
      "infoNYC,29,95,https://s3.amazonaws.com/chime-project/FocusGroupKeywords/Sandy/beaurocratic_assistance/infoNYC.csv\n",
      "neutralnews,29,357,https://s3.amazonaws.com/chime-project/FocusGroupKeywords/Sandy/beaurocratic_assistance/neutralnews.csv\n",
      "AlwaysActions,28,269,https://s3.amazonaws.com/chime-project/FocusGroupKeywords/Sandy/beaurocratic_assistance/AlwaysActions.csv\n",
      "IndianaWxOnline,28,168,https://s3.amazonaws.com/chime-project/FocusGroupKeywords/Sandy/beaurocratic_assistance/IndianaWxOnline.csv\n",
      "Philly_PA_News,27,171,https://s3.amazonaws.com/chime-project/FocusGroupKeywords/Sandy/beaurocratic_assistance/Philly_PA_News.csv\n",
      "FOX29philly,26,211,https://s3.amazonaws.com/chime-project/FocusGroupKeywords/Sandy/beaurocratic_assistance/FOX29philly.csv\n",
      "uglobalrisk,26,524,https://s3.amazonaws.com/chime-project/FocusGroupKeywords/Sandy/beaurocratic_assistance/uglobalrisk.csv\n",
      "MegaStormSandy,25,285,https://s3.amazonaws.com/chime-project/FocusGroupKeywords/Sandy/beaurocratic_assistance/MegaStormSandy.csv\n",
      "WSJweather,25,386,https://s3.amazonaws.com/chime-project/FocusGroupKeywords/Sandy/beaurocratic_assistance/WSJweather.csv\n",
      "WaterWynd,25,65,https://s3.amazonaws.com/chime-project/FocusGroupKeywords/Sandy/beaurocratic_assistance/WaterWynd.csv\n",
      "weeddude,25,198,https://s3.amazonaws.com/chime-project/FocusGroupKeywords/Sandy/beaurocratic_assistance/weeddude.csv\n",
      "Aline_Carr,24,142,https://s3.amazonaws.com/chime-project/FocusGroupKeywords/Sandy/beaurocratic_assistance/Aline_Carr.csv\n",
      "ZachNewsAlerts,24,122,https://s3.amazonaws.com/chime-project/FocusGroupKeywords/Sandy/beaurocratic_assistance/ZachNewsAlerts.csv\n",
      "conniemwhite,24,138,https://s3.amazonaws.com/chime-project/FocusGroupKeywords/Sandy/beaurocratic_assistance/conniemwhite.csv\n",
      "femaregion2,24,103,https://s3.amazonaws.com/chime-project/FocusGroupKeywords/Sandy/beaurocratic_assistance/femaregion2.csv\n",
      "from_the_bay,24,24,https://s3.amazonaws.com/chime-project/FocusGroupKeywords/Sandy/beaurocratic_assistance/from_the_bay.csv\n",
      "idrissyussuf,24,213,https://s3.amazonaws.com/chime-project/FocusGroupKeywords/Sandy/beaurocratic_assistance/idrissyussuf.csv\n",
      "BergenCtyNews,23,116,https://s3.amazonaws.com/chime-project/FocusGroupKeywords/Sandy/beaurocratic_assistance/BergenCtyNews.csv\n",
      "LitcheNYC,23,23,https://s3.amazonaws.com/chime-project/FocusGroupKeywords/Sandy/beaurocratic_assistance/LitcheNYC.csv\n",
      "lordxmen2k,23,34,https://s3.amazonaws.com/chime-project/FocusGroupKeywords/Sandy/beaurocratic_assistance/lordxmen2k.csv\n",
      "newsbreaker,23,199,https://s3.amazonaws.com/chime-project/FocusGroupKeywords/Sandy/beaurocratic_assistance/newsbreaker.csv\n",
      "tajarz,23,298,https://s3.amazonaws.com/chime-project/FocusGroupKeywords/Sandy/beaurocratic_assistance/tajarz.csv\n",
      "Berita_NewsIndo,22,328,https://s3.amazonaws.com/chime-project/FocusGroupKeywords/Sandy/beaurocratic_assistance/Berita_NewsIndo.csv\n",
      "MarnieLevy,22,236,https://s3.amazonaws.com/chime-project/FocusGroupKeywords/Sandy/beaurocratic_assistance/MarnieLevy.csv\n",
      "MiamiBikeLife,22,22,https://s3.amazonaws.com/chime-project/FocusGroupKeywords/Sandy/beaurocratic_assistance/MiamiBikeLife.csv\n",
      "MonmouthPatch,22,202,https://s3.amazonaws.com/chime-project/FocusGroupKeywords/Sandy/beaurocratic_assistance/MonmouthPatch.csv\n",
      "NoMoreFEMA,22,31,https://s3.amazonaws.com/chime-project/FocusGroupKeywords/Sandy/beaurocratic_assistance/NoMoreFEMA.csv\n",
      "WallaceRitchie,22,34,https://s3.amazonaws.com/chime-project/FocusGroupKeywords/Sandy/beaurocratic_assistance/WallaceRitchie.csv\n",
      "alastormspotter,22,127,https://s3.amazonaws.com/chime-project/FocusGroupKeywords/Sandy/beaurocratic_assistance/alastormspotter.csv\n",
      "breakingacnews,22,56,https://s3.amazonaws.com/chime-project/FocusGroupKeywords/Sandy/beaurocratic_assistance/breakingacnews.csv\n",
      "eyewitnessnyc,22,132,https://s3.amazonaws.com/chime-project/FocusGroupKeywords/Sandy/beaurocratic_assistance/eyewitnessnyc.csv\n",
      "nyvost,22,95,https://s3.amazonaws.com/chime-project/FocusGroupKeywords/Sandy/beaurocratic_assistance/nyvost.csv\n",
      "perfectsliders,22,77,https://s3.amazonaws.com/chime-project/FocusGroupKeywords/Sandy/beaurocratic_assistance/perfectsliders.csv\n",
      "philly311,22,148,https://s3.amazonaws.com/chime-project/FocusGroupKeywords/Sandy/beaurocratic_assistance/philly311.csv\n",
      "EarlyStartCNN,21,82,https://s3.amazonaws.com/chime-project/FocusGroupKeywords/Sandy/beaurocratic_assistance/EarlyStartCNN.csv\n",
      "Eiley123,21,26,https://s3.amazonaws.com/chime-project/FocusGroupKeywords/Sandy/beaurocratic_assistance/Eiley123.csv\n",
      "NowMediaScott,21,262,https://s3.amazonaws.com/chime-project/FocusGroupKeywords/Sandy/beaurocratic_assistance/NowMediaScott.csv\n",
      "RiddickSaysSo,21,134,https://s3.amazonaws.com/chime-project/FocusGroupKeywords/Sandy/beaurocratic_assistance/RiddickSaysSo.csv\n",
      "TWC_Shawn,21,261,https://s3.amazonaws.com/chime-project/FocusGroupKeywords/Sandy/beaurocratic_assistance/TWC_Shawn.csv\n",
      "cnnmornings,21,71,https://s3.amazonaws.com/chime-project/FocusGroupKeywords/Sandy/beaurocratic_assistance/cnnmornings.csv\n",
      "paijwar,21,335,https://s3.amazonaws.com/chime-project/FocusGroupKeywords/Sandy/beaurocratic_assistance/paijwar.csv\n",
      "weatherplaza,21,703,https://s3.amazonaws.com/chime-project/FocusGroupKeywords/Sandy/beaurocratic_assistance/weatherplaza.csv\n"
     ]
    }
   ],
   "source": [
    "get_dataset_for_output(sandy_users, 'beaurocratic_assistance',SANDY_gb_user, \"Sandy\")"
   ]
  },
  {
   "cell_type": "code",
   "execution_count": null,
   "metadata": {},
   "outputs": [],
   "source": []
  }
 ],
 "metadata": {
  "kernelspec": {
   "display_name": "Python 3",
   "language": "python",
   "name": "python3"
  },
  "language_info": {
   "codemirror_mode": {
    "name": "ipython",
    "version": 3
   },
   "file_extension": ".py",
   "mimetype": "text/x-python",
   "name": "python",
   "nbconvert_exporter": "python",
   "pygments_lexer": "ipython3",
   "version": "3.6.3"
  }
 },
 "nbformat": 4,
 "nbformat_minor": 2
}
