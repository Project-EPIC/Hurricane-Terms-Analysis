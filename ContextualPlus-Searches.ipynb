{
 "cells": [
  {
   "cell_type": "markdown",
   "metadata": {},
   "source": [
    "## Load Contextual Plus Streams and do text searches"
   ]
  },
  {
   "cell_type": "code",
   "execution_count": 2,
   "metadata": {},
   "outputs": [],
   "source": [
    "import os, sys, gzip, json, pprint, pymongo, pandas as pd\n",
    "from datetime import datetime\n",
    "from pymongo import MongoClient"
   ]
  },
  {
   "cell_type": "code",
   "execution_count": 189,
   "metadata": {},
   "outputs": [],
   "source": [
    "EVENTS = {\n",
    "    'harvey' : '/data/chime/Hurricanes_HIM/contextual-plus/OfficialSources_HIM/GNIP/', #HarveyIrma CP\n",
    "    'matthew': '/data/chime/matthew/gnip/',              # This is all keyword collection from Matthew\n",
    "    'matthew-geo' : '/data/chime/matthew/gnip-geo/all/' # This is all tweets from within the windswath of Matthew\n",
    "}"
   ]
  },
  {
   "cell_type": "code",
   "execution_count": 190,
   "metadata": {},
   "outputs": [],
   "source": [
    "def simplify_tweet(t):\n",
    "    '''Simplify tweet to only specified attributes (e.g. id, text, date, user attributes, etc.)'''\n",
    "    new_tweet = {'id':t['id'].split(':')[2],\n",
    "                 'text':t['body'].replace(\"\\n\",\" \").replace(\"\\r\",\" \").replace(\"\\t\",\" \"),\n",
    "                 'created_at':datetime.strptime(t['postedTime'], \"%Y-%m-%dT%H:%M:%S.%fZ\"),\n",
    "                 'user':t['actor']['preferredUsername'].replace(\"\\t\",\" \"),\n",
    "                 'verb':t['verb']\n",
    "                }        \n",
    "    return(new_tweet)"
   ]
  },
  {
   "cell_type": "code",
   "execution_count": 191,
   "metadata": {},
   "outputs": [],
   "source": [
    "def gzip_to_full_tweet(file):\n",
    "    tweets          = []\n",
    "    tweet_count     = 0\n",
    "    error_count     = 0\n",
    "    info = None\n",
    "    rt_count = 0\n",
    "    \n",
    "    with gzip.open(file, 'rb') as f:\n",
    "        file_content = f.read()\n",
    "        \n",
    "        for idx, line in enumerate(file_content.decode().split(\"\\n\")):\n",
    "            tweet_count += 1\n",
    "            try:\n",
    "                t = json.loads(line.strip())\n",
    "            except json.JSONDecodeError:\n",
    "                if(line==\"\"):\n",
    "                    pass\n",
    "                \n",
    "            if 'info' in t:\n",
    "                info = t\n",
    "            else:\n",
    "                if t['verb'] != 'share':\n",
    "                    t = simplify_tweet(t)\n",
    "                    tweets.append(t)\n",
    "                else:\n",
    "                    rt_count+=1\n",
    "\n",
    "            if idx%1000==0:\n",
    "                sys.stderr.write(\"\\r{0} tweets parsed      \".format(tweet_count))\n",
    "#     sys.stderr.write(\"\\r{0} tweets parsed     \".format(tweet_count))\n",
    "    return tweets, info, rt_count"
   ]
  },
  {
   "cell_type": "code",
   "execution_count": 192,
   "metadata": {},
   "outputs": [],
   "source": [
    "def get_tweets(base_dir, limit=None):\n",
    "    \n",
    "    gnip_files = os.listdir( base_dir )\n",
    "    print(\"Found {0} GNIP files, limit: {1}\".format(len(gnip_files), limit))\n",
    "    \n",
    "    t_count = 0\n",
    "    rt_count_total = 0\n",
    "    tweet_array = []\n",
    "    for idx, file in enumerate(gnip_files[:limit]):\n",
    "        tweets, info, rt_count = gzip_to_full_tweet(base_dir + file)\n",
    "        t_count += info['info']['activity_count']\n",
    "        tweet_array += tweets\n",
    "        rt_count_total += rt_count\n",
    "        if idx%2==0:\n",
    "            sys.stderr.write(\"\\r\"+\" \"*80 + \"{0} files; {1} tweets\".format(idx+1, t_count))\n",
    "    print(\"{0} files processed with {1} tweets, skipped {2} retweets\".format(idx+1, t_count, rt_count_total))\n",
    "    return tweet_array"
   ]
  },
  {
   "cell_type": "code",
   "execution_count": 193,
   "metadata": {},
   "outputs": [
    {
     "name": "stdout",
     "output_type": "stream",
     "text": [
      "Found 33486 GNIP files, limit: None\n"
     ]
    },
    {
     "name": "stderr",
     "output_type": "stream",
     "text": [
      "                                                                                33473 files; 3432999 tweets"
     ]
    },
    {
     "name": "stdout",
     "output_type": "stream",
     "text": [
      "33486 files processed with 3434483 tweets, skipped 0 retweets\n"
     ]
    },
    {
     "name": "stderr",
     "output_type": "stream",
     "text": [
      "\r",
      "1 tweets parsed      \r",
      "1 tweets parsed      \r",
      "                                                                                33475 files; 3433184 tweets\r",
      "1 tweets parsed      \r",
      "1 tweets parsed      \r",
      "                                                                                33477 files; 3433406 tweets\r",
      "1 tweets parsed      \r",
      "1 tweets parsed      \r",
      "                                                                                33479 files; 3433918 tweets\r",
      "1 tweets parsed      \r",
      "1 tweets parsed      \r",
      "                                                                                33481 files; 3433931 tweets\r",
      "1 tweets parsed      \r",
      "1 tweets parsed      \r",
      "                                                                                33483 files; 3434070 tweets\r",
      "1 tweets parsed      \r",
      "1 tweets parsed      \r",
      "                                                                                33485 files; 3434409 tweets\r",
      "1 tweets parsed      "
     ]
    }
   ],
   "source": [
    "TWEETS = get_tweets(EVENTS['matthew-geo'], None)"
   ]
  },
  {
   "cell_type": "code",
   "execution_count": null,
   "metadata": {},
   "outputs": [],
   "source": [
    "df = pd.DataFrame(TWEETS)\n",
    "df['date'] = df.created_at.apply(lambda x: x.date())\n",
    "print(len(df))"
   ]
  },
  {
   "cell_type": "markdown",
   "metadata": {},
   "source": [
    "# Some DataFrame Analysis"
   ]
  },
  {
   "cell_type": "code",
   "execution_count": 183,
   "metadata": {},
   "outputs": [],
   "source": [
    "HARVEY_WORDS_160 = ['water','helps','community','storm','call','prepared','informed','hurricane','rains','stay','phone','talking','evacuate','homes','news','leave','rescue','tornado','food','boat','family','neighborhood','church','neighbor','media','daughter','fema','bayou','freeway','warnings','trucks','facebook','weather','emergency','husband','lights','radio','supplies','plans','money','power','channel','stations','wind','damage','forecast','road','volunteers','decision','shelter','driving','ditches','county','situation','devastation','messaging','roofs','alerts','friends','gulf','police','rita','cell','texas','lake','television','seniors','survival','insurance','rising','worry','stuck','drain','electricity','fight','highway','announcing','drainage','governments','grocery','organization','pumps','elders','safe','decide','higher','officials','afraid','danger','fire','horrible','katrina','mayor','rainfall','surge','trapped','deep','disabled','leaders','strong','blowing','helicopter','identifying','relatives','bayous','blessed','contact','hospital','praying','residents','resources','batteries','canned','charge','drown','frustrating','hispanic','hurt','latino','mexican','nature','predict','response','risk','river','univision','attic','deaths','floating','generator','immigrant','preparedness','route','safety','tide','tropical','agency','coverage','disaster','doctors','faith','mandatory','medicine','meteorologist','reservoirs','authorities','broadcasting','canal','dark','engineers','hotel','inundated','landlines','levies','pets','screaming','stranded','underwater','escape']\n",
    "HARVEY_WORDS_92  = ['water','helps','community','storm','call','prepared','hurricane','rains','stay','phone','talking','evacuate','homes','news','leave','rescue','tornado','boat','family','church','neighbor','media','fema','bayou','warnings','facebook','weather','emergency','lights','radio','plans','money','power','channel','wind','damage','forecast','decision','shelter','devastation','alerts','gulf','police','rita','cell','lake','seniors','rising','stuck','drain','electricity','drainage','governments','safe','decide','higher','officials','afraid','danger','katrina','mayor','rainfall','surge','trapped','deep','disabled','leaders','strong','bayous','blessed','hospital','praying','frustrating','mexican','risk','river','univision','generator','safety','tide','agency','disaster','faith','mandatory','medicine','reservoirs','hotel','levies','pets','stranded','underwater']"
   ]
  },
  {
   "cell_type": "code",
   "execution_count": 184,
   "metadata": {},
   "outputs": [],
   "source": [
    "df['harvey160'] = df.text.apply(lambda text: pd.Series([x in text for x in HARVEY_WORDS_160]).any())\n",
    "df['harvey92']  = df.text.apply(lambda text: pd.Series([x in text for x in HARVEY_WORDS_92]).any())"
   ]
  },
  {
   "cell_type": "code",
   "execution_count": 185,
   "metadata": {},
   "outputs": [
    {
     "data": {
      "text/html": [
       "<div>\n",
       "<style scoped>\n",
       "    .dataframe tbody tr th:only-of-type {\n",
       "        vertical-align: middle;\n",
       "    }\n",
       "\n",
       "    .dataframe tbody tr th {\n",
       "        vertical-align: top;\n",
       "    }\n",
       "\n",
       "    .dataframe thead th {\n",
       "        text-align: right;\n",
       "    }\n",
       "</style>\n",
       "<table border=\"1\" class=\"dataframe\">\n",
       "  <thead>\n",
       "    <tr style=\"text-align: right;\">\n",
       "      <th></th>\n",
       "      <th>created_at</th>\n",
       "      <th>id</th>\n",
       "      <th>text</th>\n",
       "      <th>user</th>\n",
       "      <th>verb</th>\n",
       "      <th>date</th>\n",
       "      <th>harvey160</th>\n",
       "      <th>harvey92</th>\n",
       "    </tr>\n",
       "  </thead>\n",
       "  <tbody>\n",
       "    <tr>\n",
       "      <th>0</th>\n",
       "      <td>2017-09-09 14:10:02</td>\n",
       "      <td>906520074135019522</td>\n",
       "      <td>@MiamiBeachPD @MiamiBeachNews @KyungLahCNN @Ma...</td>\n",
       "      <td>carolem65</td>\n",
       "      <td>post</td>\n",
       "      <td>2017-09-09</td>\n",
       "      <td>False</td>\n",
       "      <td>False</td>\n",
       "    </tr>\n",
       "    <tr>\n",
       "      <th>1</th>\n",
       "      <td>2017-09-09 14:10:24</td>\n",
       "      <td>906520167764684800</td>\n",
       "      <td>@weatherchannel Irma hitting Ft Meyers Naples....</td>\n",
       "      <td>LorraineVoytko</td>\n",
       "      <td>post</td>\n",
       "      <td>2017-09-09</td>\n",
       "      <td>True</td>\n",
       "      <td>True</td>\n",
       "    </tr>\n",
       "    <tr>\n",
       "      <th>2</th>\n",
       "      <td>2017-09-09 14:10:36</td>\n",
       "      <td>906520216221437953</td>\n",
       "      <td>@JohnMoralesNBC6 Thank you 🐐</td>\n",
       "      <td>Mike91889</td>\n",
       "      <td>post</td>\n",
       "      <td>2017-09-09</td>\n",
       "      <td>False</td>\n",
       "      <td>False</td>\n",
       "    </tr>\n",
       "    <tr>\n",
       "      <th>3</th>\n",
       "      <td>2017-09-09 14:10:38</td>\n",
       "      <td>906520226510106625</td>\n",
       "      <td>@CNN Prayers 🙏🏼</td>\n",
       "      <td>PaigeSampere</td>\n",
       "      <td>post</td>\n",
       "      <td>2017-09-09</td>\n",
       "      <td>False</td>\n",
       "      <td>False</td>\n",
       "    </tr>\n",
       "    <tr>\n",
       "      <th>4</th>\n",
       "      <td>2017-09-09 14:10:19</td>\n",
       "      <td>906520144607723520</td>\n",
       "      <td>@MarcoIslandPD If on patrol cld u check buildi...</td>\n",
       "      <td>gifford00</td>\n",
       "      <td>post</td>\n",
       "      <td>2017-09-09</td>\n",
       "      <td>False</td>\n",
       "      <td>False</td>\n",
       "    </tr>\n",
       "  </tbody>\n",
       "</table>\n",
       "</div>"
      ],
      "text/plain": [
       "           created_at                  id  \\\n",
       "0 2017-09-09 14:10:02  906520074135019522   \n",
       "1 2017-09-09 14:10:24  906520167764684800   \n",
       "2 2017-09-09 14:10:36  906520216221437953   \n",
       "3 2017-09-09 14:10:38  906520226510106625   \n",
       "4 2017-09-09 14:10:19  906520144607723520   \n",
       "\n",
       "                                                text            user  verb  \\\n",
       "0  @MiamiBeachPD @MiamiBeachNews @KyungLahCNN @Ma...       carolem65  post   \n",
       "1  @weatherchannel Irma hitting Ft Meyers Naples....  LorraineVoytko  post   \n",
       "2                       @JohnMoralesNBC6 Thank you 🐐       Mike91889  post   \n",
       "3                                    @CNN Prayers 🙏🏼    PaigeSampere  post   \n",
       "4  @MarcoIslandPD If on patrol cld u check buildi...       gifford00  post   \n",
       "\n",
       "         date  harvey160  harvey92  \n",
       "0  2017-09-09      False     False  \n",
       "1  2017-09-09       True      True  \n",
       "2  2017-09-09      False     False  \n",
       "3  2017-09-09      False     False  \n",
       "4  2017-09-09      False     False  "
      ]
     },
     "execution_count": 185,
     "metadata": {},
     "output_type": "execute_result"
    }
   ],
   "source": [
    "df.head()"
   ]
  },
  {
   "cell_type": "code",
   "execution_count": 220,
   "metadata": {},
   "outputs": [
    {
     "name": "stdout",
     "output_type": "stream",
     "text": [
      "All Tweets: 1910995 | Users: 526317\n",
      "Tweets in the Harvey 160 Collection:  532749\n",
      "Users in the Harvey 160 Collection:  219723\n"
     ]
    }
   ],
   "source": [
    "print(\"All Tweets: {0} | Users: {1}\".format(len(df), df.user.nunique()))\n",
    "print(\"Tweets in the Harvey 160 Collection: \", len(df.query('harvey160')))\n",
    "print(\"Users in the Harvey 160 Collection: \", df.query('harvey160').user.nunique())"
   ]
  },
  {
   "cell_type": "code",
   "execution_count": 222,
   "metadata": {},
   "outputs": [
    {
     "name": "stdout",
     "output_type": "stream",
     "text": [
      "All Tweets: 1910995 | Users: 526317\n",
      "Tweets in the Harvey 92 Collection:  458242\n",
      "Users in the Harvey 92 Collection:  197221\n"
     ]
    }
   ],
   "source": [
    "print(\"All Tweets: {0} | Users: {1}\".format(len(df), df.user.nunique()))\n",
    "print(\"Tweets in the Harvey 92 Collection: \", len(df.query('harvey92')))\n",
    "print(\"Users in the Harvey 92 Collection: \", df.query('harvey92').user.nunique())"
   ]
  },
  {
   "cell_type": "code",
   "execution_count": 213,
   "metadata": {},
   "outputs": [
    {
     "name": "stdout",
     "output_type": "stream",
     "text": [
      "532749 1910995 27.878094919138984\n"
     ]
    }
   ],
   "source": []
  },
  {
   "cell_type": "code",
   "execution_count": null,
   "metadata": {},
   "outputs": [],
   "source": []
  },
  {
   "cell_type": "markdown",
   "metadata": {},
   "source": [
    "# Now for Matthew"
   ]
  },
  {
   "cell_type": "code",
   "execution_count": 195,
   "metadata": {},
   "outputs": [
    {
     "name": "stdout",
     "output_type": "stream",
     "text": [
      "1910995\n"
     ]
    }
   ],
   "source": [
    "matthew = pd.DataFrame(TWEETS)\n",
    "matthew['date'] = matthew.created_at.apply(lambda x: x.date())\n",
    "print(len(df))"
   ]
  },
  {
   "cell_type": "code",
   "execution_count": 196,
   "metadata": {},
   "outputs": [
    {
     "data": {
      "text/html": [
       "<div>\n",
       "<style scoped>\n",
       "    .dataframe tbody tr th:only-of-type {\n",
       "        vertical-align: middle;\n",
       "    }\n",
       "\n",
       "    .dataframe tbody tr th {\n",
       "        vertical-align: top;\n",
       "    }\n",
       "\n",
       "    .dataframe thead th {\n",
       "        text-align: right;\n",
       "    }\n",
       "</style>\n",
       "<table border=\"1\" class=\"dataframe\">\n",
       "  <thead>\n",
       "    <tr style=\"text-align: right;\">\n",
       "      <th></th>\n",
       "      <th>created_at</th>\n",
       "      <th>id</th>\n",
       "      <th>text</th>\n",
       "      <th>user</th>\n",
       "      <th>verb</th>\n",
       "      <th>date</th>\n",
       "    </tr>\n",
       "  </thead>\n",
       "  <tbody>\n",
       "    <tr>\n",
       "      <th>0</th>\n",
       "      <td>2016-08-26 16:02:24</td>\n",
       "      <td>769203351401689088</td>\n",
       "      <td>I'm at Kebab Café in Fort-de-France, Martiniqu...</td>\n",
       "      <td>Ced_BM</td>\n",
       "      <td>post</td>\n",
       "      <td>2016-08-26</td>\n",
       "    </tr>\n",
       "    <tr>\n",
       "      <th>1</th>\n",
       "      <td>2016-08-26 16:02:08</td>\n",
       "      <td>769203282514440193</td>\n",
       "      <td>I don't want Hollywood I want Forbes. #positiv...</td>\n",
       "      <td>greggar_d</td>\n",
       "      <td>post</td>\n",
       "      <td>2016-08-26</td>\n",
       "    </tr>\n",
       "    <tr>\n",
       "      <th>2</th>\n",
       "      <td>2016-08-26 16:04:23</td>\n",
       "      <td>769203849420738561</td>\n",
       "      <td>If Martinique nice one more time will have to ...</td>\n",
       "      <td>FRASTWINZMUSIC</td>\n",
       "      <td>post</td>\n",
       "      <td>2016-08-26</td>\n",
       "    </tr>\n",
       "    <tr>\n",
       "      <th>3</th>\n",
       "      <td>2016-08-26 16:06:31</td>\n",
       "      <td>769204385910063104</td>\n",
       "      <td>I'm at Chez Moi 😼 https://t.co/ocTN8osd3h</td>\n",
       "      <td>Amigo_stn</td>\n",
       "      <td>post</td>\n",
       "      <td>2016-08-26</td>\n",
       "    </tr>\n",
       "    <tr>\n",
       "      <th>4</th>\n",
       "      <td>2016-08-26 16:09:04</td>\n",
       "      <td>769205026858336256</td>\n",
       "      <td>Happy birthday to KING Valmix 👑 @djvalmix  #la...</td>\n",
       "      <td>ZoekikiAyiti</td>\n",
       "      <td>post</td>\n",
       "      <td>2016-08-26</td>\n",
       "    </tr>\n",
       "  </tbody>\n",
       "</table>\n",
       "</div>"
      ],
      "text/plain": [
       "           created_at                  id  \\\n",
       "0 2016-08-26 16:02:24  769203351401689088   \n",
       "1 2016-08-26 16:02:08  769203282514440193   \n",
       "2 2016-08-26 16:04:23  769203849420738561   \n",
       "3 2016-08-26 16:06:31  769204385910063104   \n",
       "4 2016-08-26 16:09:04  769205026858336256   \n",
       "\n",
       "                                                text            user  verb  \\\n",
       "0  I'm at Kebab Café in Fort-de-France, Martiniqu...          Ced_BM  post   \n",
       "1  I don't want Hollywood I want Forbes. #positiv...       greggar_d  post   \n",
       "2  If Martinique nice one more time will have to ...  FRASTWINZMUSIC  post   \n",
       "3          I'm at Chez Moi 😼 https://t.co/ocTN8osd3h       Amigo_stn  post   \n",
       "4  Happy birthday to KING Valmix 👑 @djvalmix  #la...    ZoekikiAyiti  post   \n",
       "\n",
       "         date  \n",
       "0  2016-08-26  \n",
       "1  2016-08-26  \n",
       "2  2016-08-26  \n",
       "3  2016-08-26  \n",
       "4  2016-08-26  "
      ]
     },
     "execution_count": 196,
     "metadata": {},
     "output_type": "execute_result"
    }
   ],
   "source": [
    "matthew.head()"
   ]
  },
  {
   "cell_type": "code",
   "execution_count": 197,
   "metadata": {},
   "outputs": [],
   "source": [
    "MATTHEW_WORDS_160 = ['storm','flooding','house','waters','surge','evacuate','hurricane','information','rains','country','community','level','leave','island','news','weather','coast','moving','damage','risk','forecast','neighborhood','power','rising','zone','media','decision','preparing','hotel','marsh','drain','river','emergency','mandatory','scary','wind','government','tidal','tornado','worst','raise','coastal','events','fema','highest','scare','service','block','drainage','causeway','bottom','hill','katrina','traffic','urgency','management','neighbor','worried','hospital','television','tropical','voluntary','warning','alert','barrier','broadcasting','danger','generators','landmark','newspaper','ocean','climate','computer','disability','nature','parents','plain','radar','roof','sand','underwater','channel','disaster','lower','meetings','notice','pollution',' telephone','together','afraid','approaching','electricity','guard','meteorologist','reporting','survive','warming',' wave','commissioners','connect','country','dark','deep','engineering','gulf','lake','message','patients','responsibility','roots','animals','citizens','depot','devastating','died','dogs','drove','environment','googling','intertidal','landscape','nursing','panic','police','pump','repaired','resources','respect','sewer','siren','soaked','source','spread','stuck','tributaries','washed','website','announcements','authority','break','buses','cellphone','cuts','debris','disadvantage','downstream','extreme','fire','food','foundation','hazard','marshside','recovery','shaking','swept','terrible','shelter','threat','trouble','uncertainty']\n",
    "MATTHEW_WORDS_95  = ['storm','flooding','house','waters','surge','evacuate','hurricane','information','rains','community','leave','maps','island','news','weather','coast','damage','risk','forecast','power','rising','media','decision','preparing','emergency','mandatory','scary','wind','government','tidal','tornado','coastal','fema','scare',' service','drainage','causway','katrina','traffic','urgency','managment','mother','nieghbor','hospital','television','tropical','volutary','warning','alert','broadcasting','danger','generators','landmark','newspaper','climate',' computer','parents','radar','roof','underwater','airport','disaster','pollution','telephone','afraid','appraoching','electricity','meteorologist','survive',' wave','commissioners','gulf','devastating','died','environmet','googling','intertidal','panic','police','resources','siren','soaked','stuck','website','announcements','authority','buses',' cellphone',' debris','extreme','fire','hazard','recovery','terrible','shelter']"
   ]
  },
  {
   "cell_type": "code",
   "execution_count": 198,
   "metadata": {},
   "outputs": [],
   "source": [
    "matthew['matthew160'] = matthew.text.apply(lambda text: pd.Series([x in text for x in MATTHEW_WORDS_160]).any())\n",
    "matthew['matthew92']  = matthew.text.apply(lambda text: pd.Series([x in text for x in MATTHEW_WORDS_95]).any())"
   ]
  },
  {
   "cell_type": "code",
   "execution_count": 200,
   "metadata": {},
   "outputs": [
    {
     "data": {
      "text/html": [
       "<div>\n",
       "<style scoped>\n",
       "    .dataframe tbody tr th:only-of-type {\n",
       "        vertical-align: middle;\n",
       "    }\n",
       "\n",
       "    .dataframe tbody tr th {\n",
       "        vertical-align: top;\n",
       "    }\n",
       "\n",
       "    .dataframe thead th {\n",
       "        text-align: right;\n",
       "    }\n",
       "</style>\n",
       "<table border=\"1\" class=\"dataframe\">\n",
       "  <thead>\n",
       "    <tr style=\"text-align: right;\">\n",
       "      <th></th>\n",
       "      <th>created_at</th>\n",
       "      <th>id</th>\n",
       "      <th>text</th>\n",
       "      <th>user</th>\n",
       "      <th>verb</th>\n",
       "      <th>date</th>\n",
       "      <th>matthew160</th>\n",
       "      <th>matthew92</th>\n",
       "    </tr>\n",
       "  </thead>\n",
       "  <tbody>\n",
       "    <tr>\n",
       "      <th>0</th>\n",
       "      <td>2016-08-26 16:02:24</td>\n",
       "      <td>769203351401689088</td>\n",
       "      <td>I'm at Kebab Café in Fort-de-France, Martiniqu...</td>\n",
       "      <td>Ced_BM</td>\n",
       "      <td>post</td>\n",
       "      <td>2016-08-26</td>\n",
       "      <td>False</td>\n",
       "      <td>False</td>\n",
       "    </tr>\n",
       "    <tr>\n",
       "      <th>1</th>\n",
       "      <td>2016-08-26 16:02:08</td>\n",
       "      <td>769203282514440193</td>\n",
       "      <td>I don't want Hollywood I want Forbes. #positiv...</td>\n",
       "      <td>greggar_d</td>\n",
       "      <td>post</td>\n",
       "      <td>2016-08-26</td>\n",
       "      <td>True</td>\n",
       "      <td>True</td>\n",
       "    </tr>\n",
       "    <tr>\n",
       "      <th>2</th>\n",
       "      <td>2016-08-26 16:04:23</td>\n",
       "      <td>769203849420738561</td>\n",
       "      <td>If Martinique nice one more time will have to ...</td>\n",
       "      <td>FRASTWINZMUSIC</td>\n",
       "      <td>post</td>\n",
       "      <td>2016-08-26</td>\n",
       "      <td>False</td>\n",
       "      <td>False</td>\n",
       "    </tr>\n",
       "    <tr>\n",
       "      <th>3</th>\n",
       "      <td>2016-08-26 16:06:31</td>\n",
       "      <td>769204385910063104</td>\n",
       "      <td>I'm at Chez Moi 😼 https://t.co/ocTN8osd3h</td>\n",
       "      <td>Amigo_stn</td>\n",
       "      <td>post</td>\n",
       "      <td>2016-08-26</td>\n",
       "      <td>False</td>\n",
       "      <td>False</td>\n",
       "    </tr>\n",
       "    <tr>\n",
       "      <th>4</th>\n",
       "      <td>2016-08-26 16:09:04</td>\n",
       "      <td>769205026858336256</td>\n",
       "      <td>Happy birthday to KING Valmix 👑 @djvalmix  #la...</td>\n",
       "      <td>ZoekikiAyiti</td>\n",
       "      <td>post</td>\n",
       "      <td>2016-08-26</td>\n",
       "      <td>False</td>\n",
       "      <td>False</td>\n",
       "    </tr>\n",
       "  </tbody>\n",
       "</table>\n",
       "</div>"
      ],
      "text/plain": [
       "           created_at                  id  \\\n",
       "0 2016-08-26 16:02:24  769203351401689088   \n",
       "1 2016-08-26 16:02:08  769203282514440193   \n",
       "2 2016-08-26 16:04:23  769203849420738561   \n",
       "3 2016-08-26 16:06:31  769204385910063104   \n",
       "4 2016-08-26 16:09:04  769205026858336256   \n",
       "\n",
       "                                                text            user  verb  \\\n",
       "0  I'm at Kebab Café in Fort-de-France, Martiniqu...          Ced_BM  post   \n",
       "1  I don't want Hollywood I want Forbes. #positiv...       greggar_d  post   \n",
       "2  If Martinique nice one more time will have to ...  FRASTWINZMUSIC  post   \n",
       "3          I'm at Chez Moi 😼 https://t.co/ocTN8osd3h       Amigo_stn  post   \n",
       "4  Happy birthday to KING Valmix 👑 @djvalmix  #la...    ZoekikiAyiti  post   \n",
       "\n",
       "         date  matthew160  matthew92  \n",
       "0  2016-08-26       False      False  \n",
       "1  2016-08-26        True       True  \n",
       "2  2016-08-26       False      False  \n",
       "3  2016-08-26       False      False  \n",
       "4  2016-08-26       False      False  "
      ]
     },
     "execution_count": 200,
     "metadata": {},
     "output_type": "execute_result"
    }
   ],
   "source": [
    "matthew.head()"
   ]
  },
  {
   "cell_type": "code",
   "execution_count": 218,
   "metadata": {},
   "outputs": [
    {
     "name": "stdout",
     "output_type": "stream",
     "text": [
      "All Tweets: 3434483 | Users: 230807\n",
      "Tweets in the Matthew 160 Collection:  335858\n",
      "Users in the Matthew 160 Collection:  73949\n"
     ]
    }
   ],
   "source": [
    "print(\"All Tweets: {0} | Users: {1}\".format(len(matthew), matthew.user.nunique()))\n",
    "print(\"Tweets in the Matthew 160 Collection: \", len(matthew.query('matthew160')))\n",
    "print(\"Users in the Matthew 160 Collection: \", matthew.query('matthew160').user.nunique())"
   ]
  },
  {
   "cell_type": "code",
   "execution_count": 219,
   "metadata": {},
   "outputs": [
    {
     "name": "stdout",
     "output_type": "stream",
     "text": [
      "All Tweets: 3434483 | Users: 230807\n",
      "Tweets in the Matthew 92 Collection:  188716\n",
      "Users in the Matthew 92 Collection:  50004\n"
     ]
    }
   ],
   "source": [
    "print(\"All Tweets: {0} | Users: {1}\".format(len(matthew), matthew.user.nunique()))\n",
    "print(\"Tweets in the Matthew 92 Collection: \", len(matthew.query('matthew92')))\n",
    "print(\"Users in the Matthew 92 Collection: \", matthew.query('matthew92').user.nunique())"
   ]
  },
  {
   "cell_type": "code",
   "execution_count": null,
   "metadata": {},
   "outputs": [],
   "source": []
  }
 ],
 "metadata": {
  "kernelspec": {
   "display_name": "Python 3",
   "language": "python",
   "name": "python3"
  },
  "language_info": {
   "codemirror_mode": {
    "name": "ipython",
    "version": 3
   },
   "file_extension": ".py",
   "mimetype": "text/x-python",
   "name": "python",
   "nbconvert_exporter": "python",
   "pygments_lexer": "ipython3",
   "version": "3.6.3"
  }
 },
 "nbformat": 4,
 "nbformat_minor": 2
}
